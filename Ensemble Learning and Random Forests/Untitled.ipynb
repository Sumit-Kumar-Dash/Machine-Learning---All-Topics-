{
 "cells": [
  {
   "cell_type": "markdown",
   "metadata": {},
   "source": [
    "If you aggregate\n",
    "the predictions of a group of predictors (such as classifiers or regressors), you will\n",
    "often get better predictions than with the best individual predictor. A group of predictors\n",
    "is called an ensemble; thus, this technique is called Ensemble Learning, and an\n",
    "Ensemble Learning algorithm is called an Ensemble method.\n",
    "\n",
    "The goal of ensemble methods is to combine the predictions of several base estimators built with a given learning algorithm in order to improve generalizability / robustness over a single estimator.\n",
    "\n",
    "The combined estimator is usually better than any of the single base estimator because its variance is reduced.\n",
    "\n",
    "Ensemble methods work best when the predictors are as independent\n",
    "from one another as possible. One way to get diverse classifiers\n",
    "is to train them using very different algorithms. This increases the\n",
    "chance that they will make very different types of errors, improving\n",
    "the ensemble’s accuracy.\n",
    "\n",
    "Ensemble methods :- bagging,\n",
    "boosting, and stacking, blending\n",
    "\n",
    "Max Voting, Averaging , Weighted Average\n",
    "\n",
    "Bagging and boosting are two widely used ensemble learners. Though these two techniques can be used with several statistical models, the most predominant usage has been with decision trees.**bagging methods work best with strong and complex models (e.g., fully developed decision trees), in contrast with boosting methods which usually work best with weak models (e.g., shallow decision trees).**\n",
    "## Bagging and Pasting\n",
    "One way to get a diverse set of classifiers is to use very different training algorithms,\n",
    "as just discussed. Another approach is to use the same training algorithm for every\n",
    "predictor and train them on different random subsets of the training set. **When sampling is performed with replacement, this method is called bagging (short for bootstrap\n",
    "aggregating). When sampling is performed without replacement, it is called\n",
    "pasting.**\n",
    "In other words, both bagging and pasting allow training instances to be sampled several\n",
    "times across multiple predictors, but only bagging allows training instances to be\n",
    "sampled several times for the same predictor.\n",
    "\n",
    "Once all predictors are trained, **the ensemble can make a prediction for a new\n",
    "instance by simply aggregating the predictions of all predictors**. The aggregation\n",
    "function is typically the statistical mode (i.e., the most frequent prediction) for classification, or the average for regression. Each individual\n",
    "predictor has a higher bias than if it were trained on the original training set, but\n",
    "**aggregation reduces both bias and variance**. Generally, the net result is that the\n",
    "ensemble has a similar bias but a lower variance than a single predictor trained on the\n",
    "original training set.\n",
    "\n",
    "**Why do we use Bagging ?** If you create all the models on the same set of data and combine it, will it be useful? There is a high chance that these models will give the same result since they are getting the same input. So how can we solve this problem? One of the techniques is bootstrapping(Bagging)\n",
    "\n",
    "**Bagging :**\n",
    "#1.Multiple subsets are created from the original dataset, selecting observations with replacement.\n",
    "#2.A base model (weak model) is created on each of these subsets.\n",
    "#3.The models run in parallel and are independent of each other.\n",
    "#4.The final predictions are determined by combining the predictions from all the models\n",
    "\n",
    "#**Bagging meta-estimator - use all features**\n",
    "#**RandomForest - use selected features at each node**\n",
    "#**Extra-Trees**\n",
    "\n",
    "### Bagging meta-estimator\n",
    " Scikit-Learn offers a simple API for both bagging and pasting with the **BaggingClassifier (or BaggingRegressor for regression)**\n",
    " \n",
    "**The subset of the dataset includes all features.**"
   ]
  },
  {
   "cell_type": "code",
   "execution_count": 1,
   "metadata": {},
   "outputs": [],
   "source": [
    "from sklearn.model_selection import train_test_split\n",
    "from sklearn.datasets import make_moons\n",
    "\n",
    "X, y = make_moons(n_samples=500, noise=0.30, random_state=42)\n",
    "X_train, X_test, y_train, y_test = train_test_split(X, y, random_state=42)\n",
    "\n",
    "from sklearn.ensemble import BaggingClassifier\n",
    "from sklearn.tree import DecisionTreeClassifier\n",
    "bag_clf = BaggingClassifier(\n",
    "    DecisionTreeClassifier(), n_estimators=500,\n",
    "    max_samples=100, bootstrap=True, n_jobs=-1)\n",
    "bag_clf.fit(X_train, y_train)\n",
    "y_pred = bag_clf.predict(X_test)"
   ]
  },
  {
   "cell_type": "markdown",
   "metadata": {},
   "source": [
    "**bootstrap=False**: to use pasting instead of bagging\n",
    "\n",
    "**n_jobs** : number of CPU cores to use for training and predictions\n",
    "(–1 tells Scikit-Learn to use all available cores)."
   ]
  },
  {
   "cell_type": "code",
   "execution_count": 2,
   "metadata": {},
   "outputs": [
    {
     "name": "stdout",
     "output_type": "stream",
     "text": [
      "0.912\n"
     ]
    }
   ],
   "source": [
    "from sklearn.metrics import accuracy_score\n",
    "print(accuracy_score(y_test, y_pred))"
   ]
  },
  {
   "cell_type": "code",
   "execution_count": 3,
   "metadata": {},
   "outputs": [
    {
     "name": "stdout",
     "output_type": "stream",
     "text": [
      "0.856\n"
     ]
    }
   ],
   "source": [
    "tree_clf = DecisionTreeClassifier(random_state=42)\n",
    "tree_clf.fit(X_train, y_train)\n",
    "y_pred_tree = tree_clf.predict(X_test)\n",
    "print(accuracy_score(y_test, y_pred_tree))"
   ]
  },
  {
   "cell_type": "markdown",
   "metadata": {},
   "source": [
    "**the ensemble has a\n",
    "comparable bias but a smaller variance** (it makes roughly the same number of errors\n",
    "on the training set, but the decision boundary is less irregular).\n",
    "\n",
    "Bootstrapping introduces a bit more diversity in the subsets that each predictor is\n",
    "trained on, so **bagging ends up with a slightly higher bias than pasting**; but the extra\n",
    "diversity also means that the predictors end up being less correlated, so the **ensemble’s\n",
    "variance is reduced**. Overall, bagging often results in better models, which explains\n",
    "why it is generally preferred.\n",
    "### Out-of-Bag Evaluation\n",
    "With bagging, some instances may be sampled several times for any given predictor,\n",
    "while others may not be sampled at all. By default a BaggingClassifier samples m\n",
    "training instances with replacement (bootstrap=True), where m is the size of the\n",
    "training set. This means that **only about 63% of the training instances are sampled on\n",
    "average for each predictor. The remaining 37% of the training instances that are not\n",
    "sampled are called out-of-bag (oob) instances**. Note that they are not the same 37%\n",
    "for all predictor.\n",
    "\n",
    "In Scikit-Learn, you can set **oob_score=True** when creating a BaggingClassifier to\n",
    "request an automatic oob evaluation after training.\n",
    "\n",
    "Since a predictor never sees the oob instances during training, it can be evaluated on\n",
    "these instances, without the need for a separate validation set. You can evaluate the\n",
    "ensemble itself by averaging out the oob evaluations of each predictor."
   ]
  },
  {
   "cell_type": "code",
   "execution_count": 4,
   "metadata": {},
   "outputs": [
    {
     "data": {
      "text/plain": [
       "0.9013333333333333"
      ]
     },
     "execution_count": 4,
     "metadata": {},
     "output_type": "execute_result"
    }
   ],
   "source": [
    "bag_clf = BaggingClassifier(\n",
    "    DecisionTreeClassifier(), n_estimators=500,\n",
    "    bootstrap=True, n_jobs=-1, oob_score=True)\n",
    "\n",
    "bag_clf.fit(X_train, y_train)\n",
    "bag_clf.oob_score_"
   ]
  },
  {
   "cell_type": "markdown",
   "metadata": {},
   "source": [
    "According to this oob evaluation, this BaggingClassifier is likely to achieve about\n",
    "89.6% accuracy on the test set. Let’s verify this:"
   ]
  },
  {
   "cell_type": "code",
   "execution_count": 5,
   "metadata": {},
   "outputs": [
    {
     "data": {
      "text/plain": [
       "0.912"
      ]
     },
     "execution_count": 5,
     "metadata": {},
     "output_type": "execute_result"
    }
   ],
   "source": [
    ">>> from sklearn.metrics import accuracy_score\n",
    ">>> y_pred = bag_clf.predict(X_test)\n",
    ">>> accuracy_score(y_test, y_pred)"
   ]
  },
  {
   "cell_type": "markdown",
   "metadata": {},
   "source": [
    "We get 90.4% accuracy on the test set—close enough!"
   ]
  },
  {
   "cell_type": "code",
   "execution_count": 6,
   "metadata": {
    "collapsed": true
   },
   "outputs": [
    {
     "data": {
      "text/plain": [
       "array([[0.39664804, 0.60335196],\n",
       "       [0.31770833, 0.68229167],\n",
       "       [1.        , 0.        ],\n",
       "       [0.00625   , 0.99375   ],\n",
       "       [0.00515464, 0.99484536],\n",
       "       [0.09090909, 0.90909091],\n",
       "       [0.33684211, 0.66315789],\n",
       "       [0.00564972, 0.99435028],\n",
       "       [0.98907104, 0.01092896],\n",
       "       [0.96703297, 0.03296703],\n",
       "       [0.78918919, 0.21081081],\n",
       "       [0.        , 1.        ],\n",
       "       [0.77844311, 0.22155689],\n",
       "       [0.84408602, 0.15591398],\n",
       "       [0.95505618, 0.04494382],\n",
       "       [0.05978261, 0.94021739],\n",
       "       [0.        , 1.        ],\n",
       "       [0.9744898 , 0.0255102 ],\n",
       "       [0.95054945, 0.04945055],\n",
       "       [0.99456522, 0.00543478],\n",
       "       [0.02083333, 0.97916667],\n",
       "       [0.32386364, 0.67613636],\n",
       "       [0.91208791, 0.08791209],\n",
       "       [1.        , 0.        ],\n",
       "       [0.97206704, 0.02793296],\n",
       "       [0.        , 1.        ],\n",
       "       [0.99435028, 0.00564972],\n",
       "       [1.        , 0.        ],\n",
       "       [0.        , 1.        ],\n",
       "       [0.6       , 0.4       ],\n",
       "       [0.        , 1.        ],\n",
       "       [1.        , 0.        ],\n",
       "       [0.        , 1.        ],\n",
       "       [0.        , 1.        ],\n",
       "       [0.15384615, 0.84615385],\n",
       "       [1.        , 0.        ],\n",
       "       [0.        , 1.        ],\n",
       "       [0.43406593, 0.56593407],\n",
       "       [0.        , 1.        ],\n",
       "       [1.        , 0.        ],\n",
       "       [0.28272251, 0.71727749],\n",
       "       [0.38974359, 0.61025641],\n",
       "       [1.        , 0.        ],\n",
       "       [1.        , 0.        ],\n",
       "       [0.        , 1.        ],\n",
       "       [1.        , 0.        ],\n",
       "       [1.        , 0.        ],\n",
       "       [0.02072539, 0.97927461],\n",
       "       [1.        , 0.        ],\n",
       "       [0.00502513, 0.99497487],\n",
       "       [0.97916667, 0.02083333],\n",
       "       [0.89673913, 0.10326087],\n",
       "       [0.97916667, 0.02083333],\n",
       "       [0.96666667, 0.03333333],\n",
       "       [0.        , 1.        ],\n",
       "       [0.02857143, 0.97142857],\n",
       "       [0.98421053, 0.01578947],\n",
       "       [0.        , 1.        ],\n",
       "       [0.        , 1.        ],\n",
       "       [0.00529101, 0.99470899],\n",
       "       [0.98412698, 0.01587302],\n",
       "       [0.76923077, 0.23076923],\n",
       "       [0.41566265, 0.58433735],\n",
       "       [1.        , 0.        ],\n",
       "       [0.        , 1.        ],\n",
       "       [0.66847826, 0.33152174],\n",
       "       [1.        , 0.        ],\n",
       "       [1.        , 0.        ],\n",
       "       [0.88601036, 0.11398964],\n",
       "       [1.        , 0.        ],\n",
       "       [0.60240964, 0.39759036],\n",
       "       [0.11864407, 0.88135593],\n",
       "       [0.64835165, 0.35164835],\n",
       "       [0.9       , 0.1       ],\n",
       "       [0.        , 1.        ],\n",
       "       [0.18617021, 0.81382979],\n",
       "       [0.86010363, 0.13989637],\n",
       "       [1.        , 0.        ],\n",
       "       [0.        , 1.        ],\n",
       "       [0.99441341, 0.00558659],\n",
       "       [0.        , 1.        ],\n",
       "       [0.05202312, 0.94797688],\n",
       "       [0.02105263, 0.97894737],\n",
       "       [0.35028249, 0.64971751],\n",
       "       [1.        , 0.        ],\n",
       "       [0.00540541, 0.99459459],\n",
       "       [0.84567901, 0.15432099],\n",
       "       [0.        , 1.        ],\n",
       "       [0.        , 1.        ],\n",
       "       [0.        , 1.        ],\n",
       "       [0.28643216, 0.71356784],\n",
       "       [1.        , 0.        ],\n",
       "       [0.        , 1.        ],\n",
       "       [0.        , 1.        ],\n",
       "       [0.        , 1.        ],\n",
       "       [0.92513369, 0.07486631],\n",
       "       [0.74331551, 0.25668449],\n",
       "       [0.        , 1.        ],\n",
       "       [1.        , 0.        ],\n",
       "       [0.21511628, 0.78488372],\n",
       "       [0.61170213, 0.38829787],\n",
       "       [0.        , 1.        ],\n",
       "       [0.04705882, 0.95294118],\n",
       "       [0.47619048, 0.52380952],\n",
       "       [1.        , 0.        ],\n",
       "       [0.03278689, 0.96721311],\n",
       "       [1.        , 0.        ],\n",
       "       [0.21578947, 0.78421053],\n",
       "       [0.43455497, 0.56544503],\n",
       "       [1.        , 0.        ],\n",
       "       [0.03225806, 0.96774194],\n",
       "       [0.98285714, 0.01714286],\n",
       "       [0.30952381, 0.69047619],\n",
       "       [0.90804598, 0.09195402],\n",
       "       [1.        , 0.        ],\n",
       "       [1.        , 0.        ],\n",
       "       [0.        , 1.        ],\n",
       "       [0.        , 1.        ],\n",
       "       [0.78609626, 0.21390374],\n",
       "       [1.        , 0.        ],\n",
       "       [0.        , 1.        ],\n",
       "       [1.        , 0.        ],\n",
       "       [1.        , 0.        ],\n",
       "       [1.        , 0.        ],\n",
       "       [0.98924731, 0.01075269],\n",
       "       [1.        , 0.        ],\n",
       "       [0.        , 1.        ],\n",
       "       [0.93220339, 0.06779661],\n",
       "       [1.        , 0.        ],\n",
       "       [0.01734104, 0.98265896],\n",
       "       [0.26470588, 0.73529412],\n",
       "       [0.9516129 , 0.0483871 ],\n",
       "       [0.27325581, 0.72674419],\n",
       "       [0.99453552, 0.00546448],\n",
       "       [0.        , 1.        ],\n",
       "       [0.        , 1.        ],\n",
       "       [0.76923077, 0.23076923],\n",
       "       [0.42076503, 0.57923497],\n",
       "       [0.44973545, 0.55026455],\n",
       "       [0.85714286, 0.14285714],\n",
       "       [0.92178771, 0.07821229],\n",
       "       [0.07368421, 0.92631579],\n",
       "       [0.79473684, 0.20526316],\n",
       "       [0.        , 1.        ],\n",
       "       [0.        , 1.        ],\n",
       "       [0.01657459, 0.98342541],\n",
       "       [0.97687861, 0.02312139],\n",
       "       [0.995     , 0.005     ],\n",
       "       [1.        , 0.        ],\n",
       "       [0.        , 1.        ],\n",
       "       [0.        , 1.        ],\n",
       "       [0.00540541, 0.99459459],\n",
       "       [0.        , 1.        ],\n",
       "       [1.        , 0.        ],\n",
       "       [1.        , 0.        ],\n",
       "       [0.94      , 0.06      ],\n",
       "       [1.        , 0.        ],\n",
       "       [1.        , 0.        ],\n",
       "       [1.        , 0.        ],\n",
       "       [0.        , 1.        ],\n",
       "       [0.41836735, 0.58163265],\n",
       "       [0.29943503, 0.70056497],\n",
       "       [0.00995025, 0.99004975],\n",
       "       [0.        , 1.        ],\n",
       "       [0.28333333, 0.71666667],\n",
       "       [1.        , 0.        ],\n",
       "       [1.        , 0.        ],\n",
       "       [0.        , 1.        ],\n",
       "       [1.        , 0.        ],\n",
       "       [0.        , 1.        ],\n",
       "       [0.        , 1.        ],\n",
       "       [0.96875   , 0.03125   ],\n",
       "       [0.        , 1.        ],\n",
       "       [0.        , 1.        ],\n",
       "       [1.        , 0.        ],\n",
       "       [0.00564972, 0.99435028],\n",
       "       [0.62631579, 0.37368421],\n",
       "       [0.88764045, 0.11235955],\n",
       "       [0.00568182, 0.99431818],\n",
       "       [0.9947644 , 0.0052356 ],\n",
       "       [1.        , 0.        ],\n",
       "       [1.        , 0.        ],\n",
       "       [0.        , 1.        ],\n",
       "       [0.        , 1.        ],\n",
       "       [1.        , 0.        ],\n",
       "       [0.08695652, 0.91304348],\n",
       "       [1.        , 0.        ],\n",
       "       [0.05555556, 0.94444444],\n",
       "       [0.        , 1.        ],\n",
       "       [1.        , 0.        ],\n",
       "       [0.        , 1.        ],\n",
       "       [0.05625   , 0.94375   ],\n",
       "       [0.99453552, 0.00546448],\n",
       "       [0.93564356, 0.06435644],\n",
       "       [0.78857143, 0.21142857],\n",
       "       [0.66666667, 0.33333333],\n",
       "       [0.        , 1.        ],\n",
       "       [0.1420765 , 0.8579235 ],\n",
       "       [1.        , 0.        ],\n",
       "       [0.96407186, 0.03592814],\n",
       "       [0.98305085, 0.01694915],\n",
       "       [1.        , 0.        ],\n",
       "       [0.        , 1.        ],\n",
       "       [0.00515464, 0.99484536],\n",
       "       [0.44886364, 0.55113636],\n",
       "       [0.85929648, 0.14070352],\n",
       "       [0.        , 1.        ],\n",
       "       [0.        , 1.        ],\n",
       "       [1.        , 0.        ],\n",
       "       [0.00515464, 0.99484536],\n",
       "       [0.        , 1.        ],\n",
       "       [0.95135135, 0.04864865],\n",
       "       [0.        , 1.        ],\n",
       "       [0.26373626, 0.73626374],\n",
       "       [0.        , 1.        ],\n",
       "       [1.        , 0.        ],\n",
       "       [0.        , 1.        ],\n",
       "       [0.        , 1.        ],\n",
       "       [0.96089385, 0.03910615],\n",
       "       [0.81463415, 0.18536585],\n",
       "       [1.        , 0.        ],\n",
       "       [0.        , 1.        ],\n",
       "       [0.11049724, 0.88950276],\n",
       "       [1.        , 0.        ],\n",
       "       [0.03314917, 0.96685083],\n",
       "       [0.        , 1.        ],\n",
       "       [0.04022989, 0.95977011],\n",
       "       [1.        , 0.        ],\n",
       "       [0.72891566, 0.27108434],\n",
       "       [0.        , 1.        ],\n",
       "       [0.89385475, 0.10614525],\n",
       "       [0.98461538, 0.01538462],\n",
       "       [0.20571429, 0.79428571],\n",
       "       [0.20958084, 0.79041916],\n",
       "       [1.        , 0.        ],\n",
       "       [0.        , 1.        ],\n",
       "       [0.        , 1.        ],\n",
       "       [0.        , 1.        ],\n",
       "       [0.21938776, 0.78061224],\n",
       "       [0.95238095, 0.04761905],\n",
       "       [0.        , 1.        ],\n",
       "       [1.        , 0.        ],\n",
       "       [0.99473684, 0.00526316],\n",
       "       [0.        , 1.        ],\n",
       "       [0.48913043, 0.51086957],\n",
       "       [1.        , 0.        ],\n",
       "       [0.        , 1.        ],\n",
       "       [1.        , 0.        ],\n",
       "       [0.        , 1.        ],\n",
       "       [0.        , 1.        ],\n",
       "       [0.11299435, 0.88700565],\n",
       "       [0.12307692, 0.87692308],\n",
       "       [0.98125   , 0.01875   ],\n",
       "       [0.00609756, 0.99390244],\n",
       "       [1.        , 0.        ],\n",
       "       [0.38857143, 0.61142857],\n",
       "       [0.09036145, 0.90963855],\n",
       "       [0.6010929 , 0.3989071 ],\n",
       "       [0.55621302, 0.44378698],\n",
       "       [0.        , 1.        ],\n",
       "       [1.        , 0.        ],\n",
       "       [0.        , 1.        ],\n",
       "       [0.        , 1.        ],\n",
       "       [0.6300578 , 0.3699422 ],\n",
       "       [0.        , 1.        ],\n",
       "       [1.        , 0.        ],\n",
       "       [0.23563218, 0.76436782],\n",
       "       [0.81632653, 0.18367347],\n",
       "       [0.07526882, 0.92473118],\n",
       "       [1.        , 0.        ],\n",
       "       [0.83597884, 0.16402116],\n",
       "       [0.        , 1.        ],\n",
       "       [0.        , 1.        ],\n",
       "       [0.08994709, 0.91005291],\n",
       "       [0.01704545, 0.98295455],\n",
       "       [0.        , 1.        ],\n",
       "       [1.        , 0.        ],\n",
       "       [0.89944134, 0.10055866],\n",
       "       [0.17977528, 0.82022472],\n",
       "       [0.96111111, 0.03888889],\n",
       "       [0.        , 1.        ],\n",
       "       [0.64583333, 0.35416667],\n",
       "       [0.06372549, 0.93627451],\n",
       "       [1.        , 0.        ],\n",
       "       [0.80952381, 0.19047619],\n",
       "       [0.        , 1.        ],\n",
       "       [0.9950495 , 0.0049505 ],\n",
       "       [0.95027624, 0.04972376],\n",
       "       [0.        , 1.        ],\n",
       "       [0.        , 1.        ],\n",
       "       [1.        , 0.        ],\n",
       "       [0.        , 1.        ],\n",
       "       [1.        , 0.        ],\n",
       "       [0.28176796, 0.71823204],\n",
       "       [0.99428571, 0.00571429],\n",
       "       [1.        , 0.        ],\n",
       "       [0.        , 1.        ],\n",
       "       [0.        , 1.        ],\n",
       "       [0.85628743, 0.14371257],\n",
       "       [0.        , 1.        ],\n",
       "       [1.        , 0.        ],\n",
       "       [0.73964497, 0.26035503],\n",
       "       [0.96629213, 0.03370787],\n",
       "       [1.        , 0.        ],\n",
       "       [0.73888889, 0.26111111],\n",
       "       [0.57065217, 0.42934783],\n",
       "       [0.        , 1.        ],\n",
       "       [0.9       , 0.1       ],\n",
       "       [0.        , 1.        ],\n",
       "       [1.        , 0.        ],\n",
       "       [0.86170213, 0.13829787],\n",
       "       [1.        , 0.        ],\n",
       "       [1.        , 0.        ],\n",
       "       [0.7638191 , 0.2361809 ],\n",
       "       [0.12068966, 0.87931034],\n",
       "       [0.46022727, 0.53977273],\n",
       "       [0.20114943, 0.79885057],\n",
       "       [0.        , 1.        ],\n",
       "       [0.82914573, 0.17085427],\n",
       "       [0.82702703, 0.17297297],\n",
       "       [0.        , 1.        ],\n",
       "       [1.        , 0.        ],\n",
       "       [0.98930481, 0.01069519],\n",
       "       [1.        , 0.        ],\n",
       "       [0.        , 1.        ],\n",
       "       [0.02040816, 0.97959184],\n",
       "       [0.94680851, 0.05319149],\n",
       "       [0.96296296, 0.03703704],\n",
       "       [1.        , 0.        ],\n",
       "       [0.47311828, 0.52688172],\n",
       "       [1.        , 0.        ],\n",
       "       [0.        , 1.        ],\n",
       "       [0.99431818, 0.00568182],\n",
       "       [0.01086957, 0.98913043],\n",
       "       [1.        , 0.        ],\n",
       "       [1.        , 0.        ],\n",
       "       [1.        , 0.        ],\n",
       "       [0.        , 1.        ],\n",
       "       [0.95767196, 0.04232804],\n",
       "       [0.        , 1.        ],\n",
       "       [0.05232558, 0.94767442],\n",
       "       [0.        , 1.        ],\n",
       "       [0.        , 1.        ],\n",
       "       [1.        , 0.        ],\n",
       "       [1.        , 0.        ],\n",
       "       [0.        , 1.        ],\n",
       "       [1.        , 0.        ],\n",
       "       [0.01449275, 0.98550725],\n",
       "       [1.        , 0.        ],\n",
       "       [0.11538462, 0.88461538],\n",
       "       [0.        , 1.        ],\n",
       "       [0.00512821, 0.99487179],\n",
       "       [0.        , 1.        ],\n",
       "       [0.38888889, 0.61111111],\n",
       "       [0.0877193 , 0.9122807 ],\n",
       "       [0.26966292, 0.73033708],\n",
       "       [1.        , 0.        ],\n",
       "       [1.        , 0.        ],\n",
       "       [0.18390805, 0.81609195],\n",
       "       [0.98360656, 0.01639344],\n",
       "       [0.0052356 , 0.9947644 ],\n",
       "       [0.        , 1.        ],\n",
       "       [1.        , 0.        ],\n",
       "       [0.94329897, 0.05670103],\n",
       "       [0.29943503, 0.70056497],\n",
       "       [0.98369565, 0.01630435],\n",
       "       [1.        , 0.        ],\n",
       "       [0.        , 1.        ],\n",
       "       [0.99438202, 0.00561798],\n",
       "       [0.        , 1.        ],\n",
       "       [0.02185792, 0.97814208],\n",
       "       [0.98148148, 0.01851852],\n",
       "       [1.        , 0.        ],\n",
       "       [0.0201005 , 0.9798995 ],\n",
       "       [0.67156863, 0.32843137]])"
      ]
     },
     "execution_count": 6,
     "metadata": {},
     "output_type": "execute_result"
    }
   ],
   "source": [
    "bag_clf.oob_decision_function_"
   ]
  },
  {
   "cell_type": "markdown",
   "metadata": {},
   "source": [
    "**oob_decision_function_** - The decision function returns the class probabilities for each training instance.\n",
    "### Random Patches and Random Subspaces\n",
    "The BaggingClassifier class **supports sampling the features** as well. Sampling is\n",
    "controlled by two hyperparameters: **max_features and bootstrap_features**. They\n",
    "work the same way as max_samples and bootstrap, but for feature sampling instead\n",
    "of instance sampling. Thus, **each predictor will be trained on a random subset of the\n",
    "input features**.\n",
    "\n",
    "This technique is particularly useful when you are dealing with high-dimensional\n",
    "inputs (such as images). **Sampling both training instances and features is called the\n",
    "Random Patches method**. Keeping all training instances (by setting bootstrap=False and max_samples=1.0) but sampling features (by setting bootstrap_features to\n",
    "True and/or max_features to a value smaller than 1.0) is called the **Random Subspaces\n",
    "method.\n",
    "Sampling features** results in even more predictor diversity, trading a bit more bias for\n",
    "a lower variance.\n",
    "## Random Forests\n",
    "Random Forest is an **ensemble of Decision Trees, generally\n",
    "trained via the bagging method (or sometimes pasting)**, typically with **max_samples\n",
    "set to the size of the training set**.\n",
    "\n",
    "Unlike bagging meta estimator, **random forest randomly selects a set of features** which are used to decide the best split at each node of the decision tree."
   ]
  },
  {
   "cell_type": "code",
   "execution_count": 7,
   "metadata": {},
   "outputs": [],
   "source": [
    "from sklearn.ensemble import RandomForestClassifier\n",
    "rnd_clf = RandomForestClassifier(n_estimators=500, max_leaf_nodes=16, n_jobs=-1)\n",
    "rnd_clf.fit(X_train, y_train)\n",
    "y_pred_rf = rnd_clf.predict(X_test)"
   ]
  },
  {
   "cell_type": "markdown",
   "metadata": {},
   "source": [
    "With a few exceptions, a RandomForestClassifier has all the hyperparameters of a\n",
    "DecisionTreeClassifier (to control how trees are grown), plus all the hyperparameters\n",
    "of a BaggingClassifier to control the ensemble itself.\n",
    "\n",
    "The Random Forest algorithm introduces extra randomness when growing trees;\n",
    "**instead of searching for the very best feature when splitting a node , it\n",
    "searches for the best feature among a random subset of features**. The algorithm\n",
    "results in greater tree diversity, which (again) trades a **higher bias for a lower variance**,\n",
    "generally yielding an overall better model. .\n",
    "\n",
    "The following BaggingClassifier\n",
    "is roughly equivalent to the previous RandomForestClassifier"
   ]
  },
  {
   "cell_type": "code",
   "execution_count": 8,
   "metadata": {},
   "outputs": [],
   "source": [
    "bag_clf = BaggingClassifier(\n",
    "DecisionTreeClassifier(splitter=\"random\", max_leaf_nodes=16),\n",
    "n_estimators=500, max_samples=1.0, bootstrap=True, n_jobs=-1)"
   ]
  },
  {
   "cell_type": "markdown",
   "metadata": {},
   "source": [
    "### Extra-Trees\n",
    "When you are growing a tree in a Random Forest, at each node only a random subset\n",
    "of the features is considered for splitting . It is possible to make\n",
    "trees even more random by also using random thresholds for each feature rather than\n",
    "searching for the best possible thresholds .\n",
    "A forest of such extremely random trees is called an **Extremely Randomized Trees\n",
    "ensemble(or Extra-Trees for short)**.Once again, this technique trades more bias for\n",
    "a lower variance. It also makes **Extra-Trees much faster to train than regular Random\n",
    "Forests**, because finding the best possible threshold for each feature at every node is\n",
    "one of the most time-consuming tasks of growing a tree.\n",
    "\n",
    "You can create an Extra-Trees classifier using Scikit-Learn’s **ExtraTreesClassifier**\n",
    "class. Its API is identical to the RandomForestClassifier class. Similarly, the **Extra\n",
    "TreesRegressor** class has the same API as the RandomForestRegressor class.\n",
    "\n",
    "It is hard to tell in advance whether a RandomForestClassifier\n",
    "will perform better or worse than an ExtraTreesClassifier. Generally,\n",
    "the only way to know is to try both and compare them using\n",
    "cross-validation (tuning the hyperparameters using grid search).\n",
    "### Feature Importance\n",
    "great quality of Random Forests is that they make it easy to **measure the\n",
    "relative importance of each feature**. Scikit-Learn measures a feature’s importance by\n",
    "looking at how much the tree nodes that use that feature reduce impurity on average\n",
    "(across all trees in the forest). More precisely, it is a weighted average, where each\n",
    "node’s weight is equal to the number of training samples that are associated with it\n",
    "\n",
    "Scikit-Learn computes this score automatically for each feature after training, then it\n",
    "scales the results so that the sum of all importances is equal to 1. You can access the\n",
    "result using the **feature_importances_ variable**."
   ]
  },
  {
   "cell_type": "code",
   "execution_count": 9,
   "metadata": {},
   "outputs": [
    {
     "name": "stdout",
     "output_type": "stream",
     "text": [
      "sepal length (cm) 0.09523891522435834\n",
      "sepal width (cm) 0.018481793228398394\n",
      "petal length (cm) 0.4366706382633779\n",
      "petal width (cm) 0.44960865328386584\n"
     ]
    }
   ],
   "source": [
    "from sklearn.datasets import load_iris\n",
    ">>> iris = load_iris()\n",
    ">>> rnd_clf = RandomForestClassifier(n_estimators=500, n_jobs=-1)\n",
    ">>> rnd_clf.fit(iris[\"data\"], iris[\"target\"])\n",
    ">>> for name, score in zip(iris[\"feature_names\"], rnd_clf.feature_importances_):\n",
    "        print(name, score)"
   ]
  },
  {
   "cell_type": "markdown",
   "metadata": {},
   "source": [
    "Random Forests are very handy to get a quick understanding of what features\n",
    "actually matter, in particular if you need to perform **feature selection**."
   ]
  },
  {
   "cell_type": "markdown",
   "metadata": {},
   "source": [
    "## Boosting\n",
    "Boosting (originally called hypothesis boosting) refers to any Ensemble method that\n",
    "can combine several weak learners into a strong learner. The general idea of most\n",
    "boosting methods is to **train predictors sequentially, each trying to correct its predecessor**.\n",
    "\n",
    "Base estimators are built sequentially and one tries to reduce the bias of the combined estimator. The motivation is to **combine several weak models to produce a powerful ensemble.**\n",
    "\n",
    "**Why do we use boosting?** If a data point is incorrectly predicted by the first model, and then the next (probably all models), will combining the predictions provide better results? Such situations are taken care of by boosting.\n",
    "\n",
    "#1.A subset is created from the original dataset.\n",
    "#2.Initially, all data points are given equal weights.\n",
    "#3.A base model is created on this subset.\n",
    "#4.This model is used to make predictions on the whole dataset.\n",
    "#5.Errors are calculated using the actual values and predicted values.\n",
    "#6.The observations which are incorrectly predicted, are given higher weights.\n",
    "#7.Another model is created and predictions are made on the dataset.\n",
    "(This model tries to correct the errors from the previous model)\n",
    "#8.Similarly, multiple models are created, each correcting the errors of the previous model.\n",
    "#9.The final model (strong learner) is the weighted mean of all the models (weak learners)\n",
    "\n",
    "**The individual models would not perform well on the entire dataset, but they work well for some part of the dataset**\n",
    "\n",
    "#AdaBoost\n",
    "#GBM\n",
    "#XGBM\n",
    "#Light GBM\n",
    "#CatBoost\n",
    "\n",
    "### AdaBoost ( Adaptive Boosting)\n",
    "One way for a **new predictor to correct its predecessor is to pay a bit more attention\n",
    "to the training instances that the predecessor underfitted. This results in new predictors\n",
    "focusing more and more on the hard cases**. This is the technique used by\n",
    "AdaBoost.\n",
    "\n",
    "Adaboost minimizes the exponential loss using a series of any desired weak learners .\n",
    "\n",
    "When training an AdaBoost classifier, the algorithm first trains a base\n",
    "classifier (such as a Decision Tree) giving all observations in the dataset equal weights and uses it to make predictions on the training set.\n",
    "The algorithm then increases the relative weight of misclassified training instances.\n",
    "Then it trains a second classifier, for same data set but using the updated weights and again makes predictions\n",
    "on the training set, updates the instance weights, and so on.This process is repeated until the error function does not change, or the maximum limit of the number of estimators is reached.\n",
    "\n",
    "Once all predictors are trained, the ensemble makes predictions very much like bagging\n",
    "or pasting, except that predictors have different weights depending on their\n",
    "overall accuracy on the weighted training set\n",
    "\n",
    "There is one **important drawback** to this sequential learning technique:\n",
    "it cannot be parallelized (or only partially), since each predictor\n",
    "can only be trained after the previous predictor has been\n",
    "trained and evaluated. As a result, it does not scale as well as bagging\n",
    "or pasting.\n",
    "\n",
    "Scikit-Learn uses a **multiclass version of AdaBoost called SAMME** (which stands for\n",
    "Stagewise Additive Modeling using a Multiclass Exponential loss function). When there\n",
    "are just two classes, SAMME is equivalent to AdaBoost. If the predictors can estimate\n",
    "class probabilities (i.e., if they have a predict_proba() method), Scikit-Learn can use\n",
    "a variant of SAMME called **SAMME.R (the R stands for “Real”), which relies on class\n",
    "probabilities rather than predictions** and generally performs better."
   ]
  },
  {
   "cell_type": "code",
   "execution_count": 10,
   "metadata": {},
   "outputs": [
    {
     "data": {
      "text/plain": [
       "AdaBoostClassifier(algorithm='SAMME.R',\n",
       "          base_estimator=DecisionTreeClassifier(class_weight=None, criterion='gini', max_depth=1,\n",
       "            max_features=None, max_leaf_nodes=None,\n",
       "            min_impurity_decrease=0.0, min_impurity_split=None,\n",
       "            min_samples_leaf=1, min_samples_split=2,\n",
       "            min_weight_fraction_leaf=0.0, presort=False, random_state=None,\n",
       "            splitter='best'),\n",
       "          learning_rate=0.5, n_estimators=200, random_state=None)"
      ]
     },
     "execution_count": 10,
     "metadata": {},
     "output_type": "execute_result"
    }
   ],
   "source": [
    "from sklearn.ensemble import AdaBoostClassifier\n",
    "ada_clf = AdaBoostClassifier(\n",
    "DecisionTreeClassifier(max_depth=1), n_estimators=200,\n",
    "algorithm=\"SAMME.R\", learning_rate=0.5)\n",
    "ada_clf.fit(X_train, y_train)"
   ]
  },
  {
   "cell_type": "markdown",
   "metadata": {},
   "source": [
    "**If your AdaBoost ensemble is overfitting the training set, you can\n",
    "try reducing the number of estimators or more strongly regularizing\n",
    "the base estimator.**"
   ]
  },
  {
   "cell_type": "code",
   "execution_count": 15,
   "metadata": {},
   "outputs": [
    {
     "data": {
      "image/png": "[encoded data removed]",
      "text/plain": [
       "<Figure size 432x288 with 1 Axes>"
      ]
     },
     "metadata": {
      "needs_background": "light"
     },
     "output_type": "display_data"
    }
   ],
   "source": [
    "plot_decision_boundary(ada_clf, X, y)"
   ]
  },
  {
   "cell_type": "code",
   "execution_count": 14,
   "metadata": {},
   "outputs": [],
   "source": [
    "import numpy as np\n",
    "import pandas as pd\n",
    "import matplotlib.pyplot as plt\n",
    "\n",
    "from matplotlib.colors import ListedColormap\n",
    "\n",
    "def plot_decision_boundary(clf, X, y, axes=[-1.5, 2.45, -1, 1.5], alpha=0.5, contour=True):\n",
    "    x1s = np.linspace(axes[0], axes[1], 100)\n",
    "    x2s = np.linspace(axes[2], axes[3], 100)\n",
    "    x1, x2 = np.meshgrid(x1s, x2s)\n",
    "    X_new = np.c_[x1.ravel(), x2.ravel()]\n",
    "    y_pred = clf.predict(X_new).reshape(x1.shape)\n",
    "    custom_cmap = ListedColormap(['#fafab0','#9898ff','#a0faa0'])\n",
    "    plt.contourf(x1, x2, y_pred, alpha=0.3, cmap=custom_cmap)\n",
    "    if contour:\n",
    "        custom_cmap2 = ListedColormap(['#7d7d58','#4c4c7f','#507d50'])\n",
    "        plt.contour(x1, x2, y_pred, cmap=custom_cmap2, alpha=0.8)\n",
    "    plt.plot(X[:, 0][y==0], X[:, 1][y==0], \"yo\", alpha=alpha)\n",
    "    plt.plot(X[:, 0][y==1], X[:, 1][y==1], \"bs\", alpha=alpha)\n",
    "    plt.axis(axes)\n",
    "    plt.xlabel(r\"$x_1$\", fontsize=18)\n",
    "    plt.ylabel(r\"$x_2$\", fontsize=18, rotation=0)"
   ]
  },
  {
   "cell_type": "markdown",
   "metadata": {},
   "source": [
    "### Gradient Boosting\n",
    "Gradient Boosting works by sequentially adding predictors to an ensemble, each one\n",
    "correcting its predecessor. However, **instead of tweaking the instance weights at every\n",
    "iteration like AdaBoost does, this method tries to fit the new predictor to the residual\n",
    "errors made by the previous predictor.**\n",
    "\n",
    "Whereas Adaboost tries to use observation weights to inform training, **gradient boosting tries to follow a gradient**.\n",
    "\n",
    "**Diff between AdaBoost & GBM**: \n",
    "#At each iteration, adaptive boosting changes the sample distribution by modifying the weights attached to each of the instances. It increases the weights of the wrongly predicted instances and decreases the ones of the correctly predicted instances. The weak learner thus focuses more on the difficult instances. After being trained, the weak learner is added to the strong one according to his performance (so-called alpha weight). The higher it performs, the more it contributes to the strong learner.\n",
    "#On the other hand, gradient boosting doesn’t modify the sample distribution. Instead of training on a newly sample distribution, the weak learner trains on the remaining errors (so-called pseudo-residuals) of the strong learner.At each iteration, the pseudo-residuals are computed and a weak learner is fitted to these pseudo-residuals. Then, the contribution of the weak learner (so-called multiplier) to the strong one isn’t computed according to his performance on the newly distribution sample but using a **gradient descent optimization process**. The computed contribution is the one minimizing the overall error of the strong learner.\n",
    "\n",
    "Gradient boosting **calculate essentially the gradient of the loss function with respect to the prediction** (instead of the features) and this way generates an extra ‘helper prediction’ to enhance the prediction and make the weak prediction closer and closer to y_test\n",
    "\n",
    "Using Decision Trees as the base predictors\n",
    "(of course, Gradient Boosting also works great with regression tasks). This is\n",
    "called **Gradient Tree Boosting, or Gradient Boosted Regression Trees (GBRT)**.It is a generalization of boosting to arbitrary\n",
    "differentiable loss functions.\n",
    "\n",
    "Gradient Tree Boosting models are used in a variety of areas including Web search ranking and ecology."
   ]
  },
  {
   "cell_type": "code",
   "execution_count": 16,
   "metadata": {},
   "outputs": [],
   "source": [
    "np.random.seed(42)\n",
    "X = np.random.rand(100, 1) - 0.5\n",
    "y = 3*X[:, 0]**2 + 0.05 * np.random.randn(100)"
   ]
  },
  {
   "cell_type": "code",
   "execution_count": 17,
   "metadata": {},
   "outputs": [
    {
     "data": {
      "text/plain": [
       "DecisionTreeRegressor(criterion='mse', max_depth=2, max_features=None,\n",
       "           max_leaf_nodes=None, min_impurity_decrease=0.0,\n",
       "           min_impurity_split=None, min_samples_leaf=1,\n",
       "           min_samples_split=2, min_weight_fraction_leaf=0.0,\n",
       "           presort=False, random_state=42, splitter='best')"
      ]
     },
     "execution_count": 17,
     "metadata": {},
     "output_type": "execute_result"
    }
   ],
   "source": [
    "from sklearn.tree import DecisionTreeRegressor\n",
    "\n",
    "tree_reg1 = DecisionTreeRegressor(max_depth=2, random_state=42)\n",
    "tree_reg1.fit(X, y)"
   ]
  },
  {
   "cell_type": "code",
   "execution_count": 18,
   "metadata": {},
   "outputs": [
    {
     "data": {
      "text/plain": [
       "DecisionTreeRegressor(criterion='mse', max_depth=2, max_features=None,\n",
       "           max_leaf_nodes=None, min_impurity_decrease=0.0,\n",
       "           min_impurity_split=None, min_samples_leaf=1,\n",
       "           min_samples_split=2, min_weight_fraction_leaf=0.0,\n",
       "           presort=False, random_state=None, splitter='best')"
      ]
     },
     "execution_count": 18,
     "metadata": {},
     "output_type": "execute_result"
    }
   ],
   "source": [
    "y2 = y - tree_reg1.predict(X)\n",
    "tree_reg2 = DecisionTreeRegressor(max_depth=2)\n",
    "tree_reg2.fit(X, y2)"
   ]
  },
  {
   "cell_type": "code",
   "execution_count": 19,
   "metadata": {},
   "outputs": [
    {
     "data": {
      "text/plain": [
       "DecisionTreeRegressor(criterion='mse', max_depth=2, max_features=None,\n",
       "           max_leaf_nodes=None, min_impurity_decrease=0.0,\n",
       "           min_impurity_split=None, min_samples_leaf=1,\n",
       "           min_samples_split=2, min_weight_fraction_leaf=0.0,\n",
       "           presort=False, random_state=None, splitter='best')"
      ]
     },
     "execution_count": 19,
     "metadata": {},
     "output_type": "execute_result"
    }
   ],
   "source": [
    "y3 = y2 - tree_reg2.predict(X)\n",
    "tree_reg3 = DecisionTreeRegressor(max_depth=2)\n",
    "tree_reg3.fit(X, y3)"
   ]
  },
  {
   "cell_type": "code",
   "execution_count": 20,
   "metadata": {},
   "outputs": [],
   "source": [
    "X_new = np.array([[0.8]])\n",
    "y_pred = sum(i.predict(X_new) for i in (tree_reg1, tree_reg2, tree_reg3))"
   ]
  },
  {
   "cell_type": "code",
   "execution_count": 22,
   "metadata": {},
   "outputs": [
    {
     "data": {
      "image/png": "[encoded data removed]",
      "text/plain": [
       "<Figure size 792x792 with 6 Axes>"
      ]
     },
     "metadata": {
      "needs_background": "light"
     },
     "output_type": "display_data"
    }
   ],
   "source": [
    "plt.figure(figsize=(11,11))\n",
    "\n",
    "plt.subplot(321)\n",
    "plot_predictions([tree_reg1], X, y, axes=[-0.5, 0.5, -0.1, 0.8], label=\"$h_1(x_1)$\", style=\"g-\", data_label=\"Training set\")\n",
    "plt.ylabel(\"$y$\", fontsize=16, rotation=0)\n",
    "plt.title(\"Residuals and tree predictions\", fontsize=16)\n",
    "\n",
    "plt.subplot(322)\n",
    "plot_predictions([tree_reg1], X, y, axes=[-0.5, 0.5, -0.1, 0.8], label=\"$h(x_1) = h_1(x_1)$\", data_label=\"Training set\")\n",
    "plt.ylabel(\"$y$\", fontsize=16, rotation=0)\n",
    "plt.title(\"Ensemble predictions\", fontsize=16)\n",
    "\n",
    "plt.subplot(323)\n",
    "plot_predictions([tree_reg2], X, y2, axes=[-0.5, 0.5, -0.5, 0.5], label=\"$h_2(x_1)$\", style=\"g-\", data_style=\"k+\", data_label=\"Residuals\")\n",
    "plt.ylabel(\"$y - h_1(x_1)$\", fontsize=16)\n",
    "\n",
    "plt.subplot(324)\n",
    "plot_predictions([tree_reg1, tree_reg2], X, y, axes=[-0.5, 0.5, -0.1, 0.8], label=\"$h(x_1) = h_1(x_1) + h_2(x_1)$\")\n",
    "plt.ylabel(\"$y$\", fontsize=16, rotation=0)\n",
    "\n",
    "plt.subplot(325)\n",
    "plot_predictions([tree_reg3], X, y3, axes=[-0.5, 0.5, -0.5, 0.5], label=\"$h_3(x_1)$\", style=\"g-\", data_style=\"k+\")\n",
    "plt.ylabel(\"$y - h_1(x_1) - h_2(x_1)$\", fontsize=16)\n",
    "plt.xlabel(\"$x_1$\", fontsize=16)\n",
    "\n",
    "plt.subplot(326)\n",
    "plot_predictions([tree_reg1, tree_reg2, tree_reg3], X, y, axes=[-0.5, 0.5, -0.1, 0.8], label=\"$h(x_1) = h_1(x_1) + h_2(x_1) + h_3(x_1)$\")\n",
    "plt.xlabel(\"$x_1$\", fontsize=16)\n",
    "plt.ylabel(\"$y$\", fontsize=16, rotation=0)\n",
    "plt.show()"
   ]
  },
  {
   "cell_type": "markdown",
   "metadata": {},
   "source": [
    "You can see that the ensemble’s predictions gradually get better as\n",
    "trees are added to the ensemble.\n",
    "\n",
    "A simpler way to train GBRT ensembles is to use Scikit-Learn’s **GradientBoostingRe\n",
    "gressor** class. Much like the RandomForestRegressor class, it has hyperparameters to\n",
    "control the growth of Decision Trees (e.g., max_depth, min_samples_leaf), as well as\n",
    "hyperparameters to control the ensemble training, such as the number of trees\n",
    "(n_estimators)."
   ]
  },
  {
   "cell_type": "code",
   "execution_count": 23,
   "metadata": {},
   "outputs": [
    {
     "data": {
      "text/plain": [
       "GradientBoostingRegressor(alpha=0.9, criterion='friedman_mse', init=None,\n",
       "             learning_rate=1.0, loss='ls', max_depth=2, max_features=None,\n",
       "             max_leaf_nodes=None, min_impurity_decrease=0.0,\n",
       "             min_impurity_split=None, min_samples_leaf=1,\n",
       "             min_samples_split=2, min_weight_fraction_leaf=0.0,\n",
       "             n_estimators=3, n_iter_no_change=None, presort='auto',\n",
       "             random_state=42, subsample=1.0, tol=0.0001,\n",
       "             validation_fraction=0.1, verbose=0, warm_start=False)"
      ]
     },
     "execution_count": 23,
     "metadata": {},
     "output_type": "execute_result"
    }
   ],
   "source": [
    "from sklearn.ensemble import GradientBoostingRegressor\n",
    "\n",
    "gbrt = GradientBoostingRegressor(max_depth=2, n_estimators=3, learning_rate=1.0, random_state=42)\n",
    "gbrt.fit(X, y)"
   ]
  },
  {
   "cell_type": "markdown",
   "metadata": {},
   "source": [
    "The **learning_rate** hyperparameter scales the contribution of each tree. If you set it\n",
    "to a low value, such as 0.1, you will need more trees in the ensemble to fit the training\n",
    "set, but the predictions will usually generalize better. This is a regularization technique\n",
    "called shrinkage."
   ]
  },
  {
   "cell_type": "code",
   "execution_count": 1,
   "metadata": {
    "collapsed": true
   },
   "outputs": [
    {
     "ename": "NameError",
     "evalue": "name 'GradientBoostingRegressor' is not defined",
     "output_type": "error",
     "traceback": [
      "\u001b[1;31m---------------------------------------------------------------------------\u001b[0m",
      "\u001b[1;31mNameError\u001b[0m                                 Traceback (most recent call last)",
      "\u001b[1;32m<ipython-input-1-c71db2b23680>\u001b[0m in \u001b[0;36m<module>\u001b[1;34m\u001b[0m\n\u001b[1;32m----> 1\u001b[1;33m \u001b[0mgbrt_slow\u001b[0m \u001b[1;33m=\u001b[0m \u001b[0mGradientBoostingRegressor\u001b[0m\u001b[1;33m(\u001b[0m\u001b[0mmax_depth\u001b[0m\u001b[1;33m=\u001b[0m\u001b[1;36m2\u001b[0m\u001b[1;33m,\u001b[0m \u001b[0mn_estimators\u001b[0m\u001b[1;33m=\u001b[0m\u001b[1;36m200\u001b[0m\u001b[1;33m,\u001b[0m \u001b[0mlearning_rate\u001b[0m\u001b[1;33m=\u001b[0m\u001b[1;36m0.1\u001b[0m\u001b[1;33m,\u001b[0m \u001b[0mrandom_state\u001b[0m\u001b[1;33m=\u001b[0m\u001b[1;36m42\u001b[0m\u001b[1;33m)\u001b[0m\u001b[1;33m\u001b[0m\u001b[1;33m\u001b[0m\u001b[0m\n\u001b[0m\u001b[0;32m      2\u001b[0m \u001b[0mgbrt_slow\u001b[0m\u001b[1;33m.\u001b[0m\u001b[0mfit\u001b[0m\u001b[1;33m(\u001b[0m\u001b[0mX\u001b[0m\u001b[1;33m,\u001b[0m \u001b[0my\u001b[0m\u001b[1;33m)\u001b[0m\u001b[1;33m\u001b[0m\u001b[1;33m\u001b[0m\u001b[0m\n",
      "\u001b[1;31mNameError\u001b[0m: name 'GradientBoostingRegressor' is not defined"
     ]
    }
   ],
   "source": [
    "gbrt_slow = GradientBoostingRegressor(max_depth=2, n_estimators=200, learning_rate=0.1, random_state=42)\n",
    "gbrt_slow.fit(X, y)"
   ]
  },
  {
   "cell_type": "markdown",
   "metadata": {},
   "source": [
    "**n_estimators** is set to 200, we do not expect to get anywhere near there, and the early-stopping will stop growing new trees when our internal validation error has not improved for 15 iterations."
   ]
  },
  {
   "cell_type": "code",
   "execution_count": 25,
   "metadata": {},
   "outputs": [
    {
     "data": {
      "image/png": "[encoded data removed]",
      "text/plain": [
       "<Figure size 720x288 with 2 Axes>"
      ]
     },
     "metadata": {
      "needs_background": "light"
     },
     "output_type": "display_data"
    }
   ],
   "source": [
    "fix, axes = plt.subplots(ncols=2, figsize=(10,4), sharey=True)\n",
    "\n",
    "plt.sca(axes[0])\n",
    "plot_predictions([gbrt], X, y, axes=[-0.5, 0.5, -0.1, 0.8], label=\"Ensemble predictions\")\n",
    "plt.title(\"learning_rate={}, n_estimators={}\".format(gbrt.learning_rate, gbrt.n_estimators), fontsize=14)\n",
    "plt.xlabel(\"$x_1$\", fontsize=16)\n",
    "plt.ylabel(\"$y$\", fontsize=16, rotation=0)\n",
    "\n",
    "plt.sca(axes[1])\n",
    "plot_predictions([gbrt_slow], X, y, axes=[-0.5, 0.5, -0.1, 0.8])\n",
    "plt.title(\"learning_rate={}, n_estimators={}\".format(gbrt_slow.learning_rate, gbrt_slow.n_estimators), fontsize=14)\n",
    "plt.xlabel(\"$x_1$\", fontsize=16)\n",
    "plt.show()"
   ]
  },
  {
   "cell_type": "markdown",
   "metadata": {},
   "source": [
    "#### Gradient Boosting with Early stopping\n",
    "In order to  .find the optimal number of trees, you can use early stopping .\n",
    "\n",
    "A simple way to implement this is to use the ***staged_predict()** method: it\n",
    "returns an iterator over the predictions made by the ensemble at each stage of training\n",
    "(with one tree, two trees, etc.).\n",
    "\n",
    "The following code trains a GBRT ensemble with\n",
    "120 trees, then measures the validation error at each stage of training to find the optimal\n",
    "number of trees, and finally trains another GBRT ensemble using the optimal\n",
    "number of trees."
   ]
  },
  {
   "cell_type": "code",
   "execution_count": 26,
   "metadata": {},
   "outputs": [
    {
     "data": {
      "text/plain": [
       "GradientBoostingRegressor(alpha=0.9, criterion='friedman_mse', init=None,\n",
       "             learning_rate=0.1, loss='ls', max_depth=2, max_features=None,\n",
       "             max_leaf_nodes=None, min_impurity_decrease=0.0,\n",
       "             min_impurity_split=None, min_samples_leaf=1,\n",
       "             min_samples_split=2, min_weight_fraction_leaf=0.0,\n",
       "             n_estimators=56, n_iter_no_change=None, presort='auto',\n",
       "             random_state=42, subsample=1.0, tol=0.0001,\n",
       "             validation_fraction=0.1, verbose=0, warm_start=False)"
      ]
     },
     "execution_count": 26,
     "metadata": {},
     "output_type": "execute_result"
    }
   ],
   "source": [
    "import numpy as np\n",
    "from sklearn.model_selection import train_test_split\n",
    "from sklearn.metrics import mean_squared_error\n",
    "\n",
    "X_train, X_val, y_train, y_val = train_test_split(X, y, random_state=49)\n",
    "\n",
    "gbrt = GradientBoostingRegressor(max_depth=2, n_estimators=120, random_state=42)\n",
    "gbrt.fit(X_train, y_train)\n",
    "\n",
    "errors = [mean_squared_error(y_val, y_pred)\n",
    "          for y_pred in gbrt.staged_predict(X_val)]\n",
    "bst_n_estimators = np.argmin(errors) + 1\n",
    "\n",
    "gbrt_best = GradientBoostingRegressor(max_depth=2, n_estimators=bst_n_estimators, random_state=42)\n",
    "gbrt_best.fit(X_train, y_train)"
   ]
  },
  {
   "cell_type": "code",
   "execution_count": 27,
   "metadata": {},
   "outputs": [
    {
     "data": {
      "text/plain": [
       "0.002712853325235463"
      ]
     },
     "execution_count": 27,
     "metadata": {},
     "output_type": "execute_result"
    }
   ],
   "source": [
    "min_error = np.min(errors)\n",
    "min_error"
   ]
  },
  {
   "cell_type": "code",
   "execution_count": 28,
   "metadata": {},
   "outputs": [
    {
     "data": {
      "text/plain": [
       "Text(0.5, 0, '$x_1$')"
      ]
     },
     "execution_count": 28,
     "metadata": {},
     "output_type": "execute_result"
    },
    {
     "data": {
      "image/png": "[encoded data removed]",
      "text/plain": [
       "<Figure size 720x288 with 2 Axes>"
      ]
     },
     "metadata": {
      "needs_background": "light"
     },
     "output_type": "display_data"
    }
   ],
   "source": [
    "plt.figure(figsize=(10, 4))\n",
    "\n",
    "plt.subplot(121)\n",
    "plt.plot(errors, \"b.-\")\n",
    "plt.plot([bst_n_estimators, bst_n_estimators], [0, min_error], \"k--\")\n",
    "plt.plot([0, 120], [min_error, min_error], \"k--\")\n",
    "plt.plot(bst_n_estimators, min_error, \"ko\")\n",
    "plt.text(bst_n_estimators, min_error*1.2, \"Minimum\", ha=\"center\", fontsize=14)\n",
    "plt.axis([0, 120, 0, 0.01])\n",
    "plt.xlabel(\"Number of trees\")\n",
    "plt.ylabel(\"Error\", fontsize=16)\n",
    "plt.title(\"Validation error\", fontsize=14)\n",
    "\n",
    "plt.subplot(122)\n",
    "plot_predictions([gbrt_best], X, y, axes=[-0.5, 0.5, -0.1, 0.8])\n",
    "plt.title(\"Best model (%d trees)\" % bst_n_estimators, fontsize=14)\n",
    "plt.ylabel(\"$y$\", fontsize=16, rotation=0)\n",
    "plt.xlabel(\"$x_1$\", fontsize=16)"
   ]
  },
  {
   "cell_type": "markdown",
   "metadata": {},
   "source": [
    "It is also possible to implement early stopping by actually stopping training early\n",
    "(instead of training a large number of trees first and then looking back to find the\n",
    "optimal number). You can do so by setting **warm_start=True**, which makes Scikit-\n",
    "Learn keep existing trees when the fit() method is called, allowing incremental\n",
    "training."
   ]
  },
  {
   "cell_type": "code",
   "execution_count": 29,
   "metadata": {},
   "outputs": [],
   "source": [
    "gbrt = GradientBoostingRegressor(max_depth=2, warm_start=True, random_state=42)\n",
    "\n",
    "min_val_error = float(\"inf\")\n",
    "error_going_up = 0\n",
    "for n_estimators in range(1, 120):\n",
    "    gbrt.n_estimators = n_estimators\n",
    "    gbrt.fit(X_train, y_train)\n",
    "    y_pred = gbrt.predict(X_val)\n",
    "    val_error = mean_squared_error(y_val, y_pred)\n",
    "    if val_error < min_val_error:\n",
    "        min_val_error = val_error\n",
    "        error_going_up = 0\n",
    "    else:\n",
    "        error_going_up += 1\n",
    "        if error_going_up == 5:\n",
    "            break  # early stopping"
   ]
  },
  {
   "cell_type": "markdown",
   "metadata": {},
   "source": [
    "The GradientBoostingRegressor class also supports a **subsample** hyperparameter,\n",
    "which specifies the fraction of training instances to be used for training each tree. For\n",
    "example, if subsample=0.25, then each tree is trained on 25% of the training instances,\n",
    "selected randomly. As you can probably guess by now, this technique trades a\n",
    "higher bias for a lower variance. It also speeds up training considerably. This is called\n",
    "**Stochastic Gradient Boosting**.\n",
    "\n",
    "It is possible to use Gradient Boosting with other cost functions.\n",
    "This is controlled by the **loss** hyperparameter"
   ]
  },
  {
   "cell_type": "markdown",
   "metadata": {},
   "source": [
    "### XGBoost\n",
    "An optimized and fastest implementation of Gradient Boosting is available in the popular Python library XGBoost, which stands for **Extreme Gradient Boosting**.In XGBoost, we fit a model on the gradient of loss generated from the previous step. In XGBoost, **we just modified our gradient boosting algorithm so that it works with any differentiable loss function.**\n",
    "\n",
    "It aims to be extremely fast, scalable,\n",
    "and portable as it drives fast learning through parallel and distributed computing and offers efficient memory usage.\n",
    "\n",
    "It also includes a variety of regularization which reduces overfitting and improves overall performance by implementing **effective regularization hyperparameters** on the underlying trees , called as ‘regularized boosting‘ technique.\n",
    "\n",
    "#It is available in many different languages (such as Python, R, C, C++, Ruby, Julia, etc.).\n",
    "#Regularization: XGBoost has an option to penalize complex models through both L1 and L2 regularization. Regularization helps in preventing overfitting\n",
    "#Parallel Processing:For faster computing, XGBoost can make use of multiple cores on the CPU. This is possible because of a block structure in its system design. Data is sorted and stored in in-memory units called blocks. Unlike other algorithms, this enables the data layout to be reused by subsequent iterations, instead of computing it again. This feature also serves useful for steps like split finding and column sub-sampling.It also supports implementation on Hadoop.\n",
    "#Handling sparse data: Missing values or data processing steps like one-hot encoding make data sparse. XGBoost incorporates a sparsity-aware split finding algorithm to handle different types of sparsity patterns in the data\n",
    "#Distributed Computing for training very large models using a cluster of machines.\n",
    "#Out-of-Core Computing - It optimizes the available disk space and maximizes its usage when handling huge datasets that do not fit into memory\n",
    "#Cache Optimization of data structures and algorithm to make best use of hardware.\n",
    "#XGBoost allows users to define custom optimization objectives and evaluation criteria adding a whole new dimension to the model.\n",
    "#XGBoost has an in-built routine to handle missing values.\n",
    "#Tree Pruning:XGBoost makes splits up to the max_depth specified and then starts pruning the tree backwards and removes splits beyond which there is no positive gain.\n",
    "#Built-in Cross-Validation:XGBoost allows a user to run a cross-validation at each iteration of the boosting process and thus it is easy to get the exact optimum number of boosting iterations in a single run.\n",
    "\n",
    "\n",
    "Disadvantage is that it **doesn’t have any special treatment of categorical features** like its competitors(LightGBM,CatBoost).\n",
    "But specifying **tree_method='hist’**. This will bin the continuous features using histogram binning, reducing the amount of splits that need to be analyzed"
   ]
  },
  {
   "cell_type": "code",
   "execution_count": 4,
   "metadata": {},
   "outputs": [],
   "source": [
    "import numpy as np\n",
    "from sklearn.model_selection import train_test_split\n",
    "from sklearn.metrics import mean_squared_error\n",
    "\n",
    "X_train, X_val, y_train, y_val = train_test_split(X, y, random_state=49)"
   ]
  },
  {
   "cell_type": "code",
   "execution_count": 5,
   "metadata": {},
   "outputs": [
    {
     "name": "stdout",
     "output_type": "stream",
     "text": [
      "Validation MSE: 0.1158875528718271\n"
     ]
    }
   ],
   "source": [
    "import xgboost\n",
    "xgb_reg = xgboost.XGBRegressor()\n",
    "xgb_reg.fit(X_train, y_train)\n",
    "y_pred = xgb_reg.predict(X_val)\n",
    "val_error = mean_squared_error(y_val, y_pred) # Not shown\n",
    "print(\"Validation MSE:\", val_error)"
   ]
  },
  {
   "cell_type": "markdown",
   "metadata": {},
   "source": [
    "XGBoost also offers several nice features, such as automatically taking care of early\n",
    "stopping:"
   ]
  },
  {
   "cell_type": "code",
   "execution_count": 6,
   "metadata": {},
   "outputs": [
    {
     "name": "stdout",
     "output_type": "stream",
     "text": [
      "[0]\tvalidation_0-rmse:0.40582\n",
      "Will train until validation_0-rmse hasn't improved in 2 rounds.\n",
      "[1]\tvalidation_0-rmse:0.35474\n",
      "[2]\tvalidation_0-rmse:0.32464\n",
      "[3]\tvalidation_0-rmse:0.30981\n",
      "[4]\tvalidation_0-rmse:0.30304\n",
      "[5]\tvalidation_0-rmse:0.30246\n",
      "[6]\tvalidation_0-rmse:0.30195\n",
      "[7]\tvalidation_0-rmse:0.30074\n",
      "[8]\tvalidation_0-rmse:0.29867\n",
      "[9]\tvalidation_0-rmse:0.30140\n",
      "[10]\tvalidation_0-rmse:0.29938\n",
      "Stopping. Best iteration:\n",
      "[8]\tvalidation_0-rmse:0.29867\n",
      "\n"
     ]
    }
   ],
   "source": [
    "xgb_reg.fit(X_train, y_train,eval_set=[(X_val, y_val)], early_stopping_rounds=2)\n",
    "y_pred = xgb_reg.predict(X_val)"
   ]
  },
  {
   "cell_type": "markdown",
   "metadata": {},
   "source": [
    "### LightGBM\n",
    "Light GBM beats all the other algorithms when the **dataset is extremely large**. Compared to the other algorithms, Light GBM takes lesser time to run on a huge dataset.\n",
    "\n",
    "LightGBM is a gradient boosting framework that uses tree-based algorithms and follows **leaf-wise approach** while other algorithms work in a level-wise(depth-wise) approach pattern.\n",
    "\n",
    "Leaf wise splits lead to increase in complexity and may lead to overfitting and it can be overcome by specifying another parameter max-depth which specifies the depth to which splitting will occur.\n",
    "\n",
    "#1.Faster training speed and higher efficiency: Light GBM use histogram based algorithm i.e it buckets continuous feature values into discrete bins which fasten the training procedure.\n",
    "#2.Lower memory usage: Replaces continuous values to discrete bins which result in lower memory usage.\n",
    "#3.Better accuracy than any other boosting algorithm: It produces much more complex trees by following leaf wise split approach rather than a level-wise approach which is the main factor in achieving higher accuracy. However, it can sometimes lead to overfitting which can be avoided by setting the max_depth parameter.\n",
    "#4.Compatibility with Large Datasets: It is capable of performing equally good with large datasets with a significant reduction in training time as compared to XGBOOST.\n",
    "#5.Parallel learning supported.\n",
    "\n",
    "**For best fit**\n",
    "#num_leaves        #min_data_in_leaf          #max_depth\n",
    " \n",
    "**For faster speed**\n",
    "#bagging_fraction#feature_fraction #max_bin \n",
    "\n",
    "**For better accuracy**\n",
    "#Use bigger training data#num_leaves#max_bin"
   ]
  },
  {
   "cell_type": "markdown",
   "metadata": {},
   "source": [
    "### CatBoost ( “CatBoostClassifier” , “CatBoostRegressor“)\n",
    "CatBoost is a recently open-sourced machine learning algorithm from Yandex. It can easily integrate with deep learning frameworks like Google’s TensorFlow and Apple’s Core ML.\n",
    "\n",
    "“CatBoost” name comes from two words **“Category” and “Boosting”.**\n",
    "\n",
    "As discussed, the library works well with multiple Categories of data, such as audio, text, image including historical data.\n",
    "Eg: fraud detection, recommendation items, forecasting \n",
    "\n",
    "“Boost” comes from gradient boosting machine learning algorithm as this library is based on gradient boosting library.\n",
    "\n",
    "**Handling Categorical features automatically**\n",
    "#1.It can easily integrate with deep learning frameworks like Google’s TensorFlow and Apple’s Core ML.\n",
    "#2.Deep Learning works best for homogenous data(eg:image,sound,text)while gradient boosting works well on diverse data sources. #3.It also return very good result with relatively less data,unlike DL models that need to learn from a massive amount of data.\n",
    "    As it yields state-of-the-art results without extensive data training typically required by other machine learning methods\n",
    "#4.Provides powerful out-of-the-box support for the more descriptive data formats that accompany many business problems.\n",
    "#5.You can use CatBoost from the command line, using an user-friendly API for both Python and R.\n",
    "#6.It reduces the need for extensive hyper-parameter tuning and lower the chances of overfitting.\n",
    "#7.In addition to this, CatBoost does not require conversion of data set to any specific format like XGBoost and LightGBM."
   ]
  },
  {
   "cell_type": "markdown",
   "metadata": {},
   "source": [
    "## Stacking\n",
    "It is based on a simple idea: instead of using trivial functions\n",
    "(such as hard voting) to aggregate the predictions of all predictors in an ensemble,\n",
    " **train a model to perform this aggregation**.\n",
    "It uses predictions from multiple models (for example decision tree, knn or svm) to build a new model. This model is used for making predictions on the test set. \n",
    "## Blending\n",
    "Blending follows the same approach as stacking but uses only a holdout (validation) set from the train set to make predictions. In other words, unlike stacking, the predictions are made on the holdout set only. The holdout set and the predictions are used to build a model which is run on the test set\n",
    " \n",
    "## Voting - VotingClassifier/VotingRegressor\n",
    "max voting method is generally used for classification problems. In this technique, multiple models are used to make predictions for each data point. The predictions by each model are considered as a ‘vote’. The predictions which we get from the majority of the models are used as the final prediction.\n",
    "## Averaging\n",
    "Similar to the max voting technique, multiple predictions are made for each data point in averaging. In this method, we take an average of predictions from all the models and use it to make the final prediction. Averaging can be used for making predictions in regression problems or while calculating probabilities for classification problems.\n",
    "## Weighted Average\n",
    "This is an extension of the averaging method. All models are assigned different weights defining the importance of each model for prediction"
   ]
  },
  {
   "cell_type": "code",
   "execution_count": 3,
   "metadata": {},
   "outputs": [],
   "source": [
    "import lightgbm"
   ]
  },
  {
   "cell_type": "code",
   "execution_count": null,
   "metadata": {},
   "outputs": [],
   "source": []
  }
 ],
 "metadata": {
  "kernelspec": {
   "display_name": "Python 3",
   "language": "python",
   "name": "python3"
  },
  "language_info": {
   "codemirror_mode": {
    "name": "ipython",
    "version": 3
   },
   "file_extension": ".py",
   "mimetype": "text/x-python",
   "name": "python",
   "nbconvert_exporter": "python",
   "pygments_lexer": "ipython3",
   "version": "3.7.1"
  }
 },
 "nbformat": 4,
 "nbformat_minor": 2
}
