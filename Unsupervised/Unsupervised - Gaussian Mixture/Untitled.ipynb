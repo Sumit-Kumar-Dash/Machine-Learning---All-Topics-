{
 "cells": [
  {
   "cell_type": "markdown",
   "metadata": {},
   "source": [
    "A Gaussian mixture model (GMM) is a **probabilistic model that assumes that the\n",
    "instances were generated from a mixture of several Gaussian distributions whose\n",
    "parameters are unknown**. All the instances generated from a single Gaussian distribution\n",
    "form a cluster that typically looks like an ellipsoid. Each cluster can have a different\n",
    "ellipsoidal shape, size, density, and orientation.When\n",
    "you observe an instance, you know it was generated from one of the Gaussian distributions,\n",
    "but you are not told which one, and you do not know what the parameters of\n",
    "these distributions are."
   ]
  },
  {
   "cell_type": "markdown",
   "metadata": {},
   "source": [
    "There are several GMM variants.The simplest variantis GaussianMixture class(must know in advance the no. k of Gaussian distributions.\n",
    "The dataset X is assumed to have been generated through the following\n",
    "probabilistic process:\n",
    "\n",
    "• For each instance, a cluster is picked randomly from among k clusters. The probability\n",
    "of choosing the jth cluster is defined by the cluster’s weight, ϕ(j).The index\n",
    "of the cluster chosen for the ith instance is noted z(i).\n",
    "\n",
    "• If z(i)=j, meaning the ith instance has been assigned to the jth cluster, the location\n",
    "x(i) of this instance is sampled randomly from the Gaussian distribution with\n",
    "mean μ(j) and covariance matrix Σ(j)."
   ]
  },
  {
   "cell_type": "code",
   "execution_count": 4,
   "metadata": {},
   "outputs": [],
   "source": [
    "from sklearn.mixture import GaussianMixture"
   ]
  },
  {
   "cell_type": "code",
   "execution_count": 2,
   "metadata": {},
   "outputs": [
    {
     "data": {
      "text/plain": [
       "array(['setosa', 'versicolor', 'virginica'], dtype='<U10')"
      ]
     },
     "execution_count": 2,
     "metadata": {},
     "output_type": "execute_result"
    }
   ],
   "source": [
    "from sklearn.datasets import load_iris\n",
    "data = load_iris()\n",
    "X = data.data\n",
    "y = data.target\n",
    "data.target_names"
   ]
  },
  {
   "cell_type": "code",
   "execution_count": 7,
   "metadata": {},
   "outputs": [
    {
     "data": {
      "text/plain": [
       "GaussianMixture(n_components=3, n_init=10)"
      ]
     },
     "execution_count": 7,
     "metadata": {},
     "output_type": "execute_result"
    }
   ],
   "source": [
    "gm = GaussianMixture(n_components=3, n_init=10)\n",
    "gm.fit(X)"
   ]
  },
  {
   "cell_type": "code",
   "execution_count": 8,
   "metadata": {},
   "outputs": [
    {
     "data": {
      "text/plain": [
       "array([0.30118609, 0.33333333, 0.36548058])"
      ]
     },
     "execution_count": 8,
     "metadata": {},
     "output_type": "execute_result"
    }
   ],
   "source": [
    "gm.weights_"
   ]
  },
  {
   "cell_type": "code",
   "execution_count": 9,
   "metadata": {},
   "outputs": [
    {
     "data": {
      "text/plain": [
       "array([[5.91697517, 2.77803998, 4.20523542, 1.29841561],\n",
       "       [5.006     , 3.428     , 1.462     , 0.246     ],\n",
       "       [6.54632887, 2.94943079, 5.4834877 , 1.98716063]])"
      ]
     },
     "execution_count": 9,
     "metadata": {},
     "output_type": "execute_result"
    }
   ],
   "source": [
    "gm.means_"
   ]
  },
  {
   "cell_type": "code",
   "execution_count": 10,
   "metadata": {},
   "outputs": [
    {
     "data": {
      "text/plain": [
       "array([[[0.27550587, 0.09663458, 0.18542939, 0.05476915],\n",
       "        [0.09663458, 0.09255531, 0.09103836, 0.04299877],\n",
       "        [0.18542939, 0.09103836, 0.20227635, 0.0616792 ],\n",
       "        [0.05476915, 0.04299877, 0.0616792 , 0.03232217]],\n",
       "\n",
       "       [[0.121765  , 0.097232  , 0.016028  , 0.010124  ],\n",
       "        [0.097232  , 0.140817  , 0.011464  , 0.009112  ],\n",
       "        [0.016028  , 0.011464  , 0.029557  , 0.005948  ],\n",
       "        [0.010124  , 0.009112  , 0.005948  , 0.010885  ]],\n",
       "\n",
       "       [[0.38741443, 0.09223101, 0.30244612, 0.06089936],\n",
       "        [0.09223101, 0.11040631, 0.08386768, 0.0557538 ],\n",
       "        [0.30244612, 0.08386768, 0.32595958, 0.07283247],\n",
       "        [0.06089936, 0.0557538 , 0.07283247, 0.08488025]]])"
      ]
     },
     "execution_count": 10,
     "metadata": {},
     "output_type": "execute_result"
    }
   ],
   "source": [
    "gm.covariances_"
   ]
  },
  {
   "cell_type": "markdown",
   "metadata": {},
   "source": [
    "This class relies on the **Expectation-Maximization (EM) algorithm**, which has many similarities with the K-Means algorithm:\n",
    "\n",
    "it also initializes the cluster parameters randomly, then it repeats two steps until convergence, first assigning instances to clusters **(this is called the expectation step)** and then updating the clusters **(this is called the maximization step)**. \n",
    "\n",
    "In the context of clustering, you can think of **EM as a generalization of K-Means** that not only finds the cluster centers (μ(1) to μ(k)), but also their size, shape, and orientation (Σ(1) to Σ(k)), as well as their relative weights (ϕ(1) to ϕ(k)). \n",
    "\n",
    "**Unlike KMeans, EM uses soft cluster assignments, not hard assignments**.\n",
    "\n",
    "For each instance, during the expectation step, the algorithm estimates the probability that it belongs to each cluster (based on the current cluster parameters). Then, during the maximization step, each cluster is updated using all the instances in the dataset, with each instance weighted by the estimated probability that it belongs to that cluster.\n",
    "These probabilities are called the **responsibilities of the clusters for the instances.** During the maximization step, each cluster’s update will mostly be impacted by the instances it is most responsible for.\n",
    "\n",
    "**Unfortunately, just like K-Means, EM can end up converging to poor solutions, so it needs to be run several times, keeping only the best solution. This is why we set n_init to 10. Be careful: by default n_init is set to 1.**"
   ]
  },
  {
   "cell_type": "code",
   "execution_count": 11,
   "metadata": {},
   "outputs": [
    {
     "data": {
      "text/plain": [
       "True"
      ]
     },
     "execution_count": 11,
     "metadata": {},
     "output_type": "execute_result"
    }
   ],
   "source": [
    "gm.converged_"
   ]
  },
  {
   "cell_type": "code",
   "execution_count": 12,
   "metadata": {},
   "outputs": [
    {
     "data": {
      "text/plain": [
       "17"
      ]
     },
     "execution_count": 12,
     "metadata": {},
     "output_type": "execute_result"
    }
   ],
   "source": [
    "gm.n_iter_"
   ]
  },
  {
   "cell_type": "markdown",
   "metadata": {},
   "source": [
    "Now that you have an estimate of the location, size, shape, orientation, and relative\n",
    "weight of each cluster, the model can easily assign each instance to the most likely\n",
    "cluster (hard clustering) or estimate the probability that it belongs to a particular\n",
    "cluster (soft clustering). Just use the **predict() method for hard clustering, or the\n",
    "predict_proba() method for soft clustering**."
   ]
  },
  {
   "cell_type": "code",
   "execution_count": 14,
   "metadata": {},
   "outputs": [
    {
     "data": {
      "text/plain": [
       "array([1, 1, 1, 1, 1, 1, 1, 1, 1, 1, 1, 1, 1, 1, 1, 1, 1, 1, 1, 1, 1, 1,\n",
       "       1, 1, 1, 1, 1, 1, 1, 1, 1, 1, 1, 1, 1, 1, 1, 1, 1, 1, 1, 1, 1, 1,\n",
       "       1, 1, 1, 1, 1, 1, 0, 0, 0, 0, 0, 0, 0, 0, 0, 0, 0, 0, 0, 0, 0, 0,\n",
       "       0, 0, 2, 0, 2, 0, 2, 0, 0, 0, 0, 2, 0, 0, 0, 0, 0, 2, 0, 0, 0, 0,\n",
       "       0, 0, 0, 0, 0, 0, 0, 0, 0, 0, 0, 0, 2, 2, 2, 2, 2, 2, 2, 2, 2, 2,\n",
       "       2, 2, 2, 2, 2, 2, 2, 2, 2, 2, 2, 2, 2, 2, 2, 2, 2, 2, 2, 2, 2, 2,\n",
       "       2, 2, 2, 2, 2, 2, 2, 2, 2, 2, 2, 2, 2, 2, 2, 2, 2, 2], dtype=int64)"
      ]
     },
     "execution_count": 14,
     "metadata": {},
     "output_type": "execute_result"
    }
   ],
   "source": [
    "gm.predict(X)"
   ]
  },
  {
   "cell_type": "code",
   "execution_count": 15,
   "metadata": {
    "collapsed": true
   },
   "outputs": [
    {
     "data": {
      "text/plain": [
       "array([[9.06516804e-044, 1.00000000e+000, 6.39829159e-035],\n",
       "       [8.53836828e-031, 1.00000000e+000, 2.59954184e-028],\n",
       "       [9.37295905e-036, 1.00000000e+000, 4.21198692e-030],\n",
       "       [1.46701195e-031, 1.00000000e+000, 2.71194113e-026],\n",
       "       [3.36751068e-046, 1.00000000e+000, 2.68318787e-035],\n",
       "       [8.48608974e-045, 1.00000000e+000, 3.36012794e-035],\n",
       "       [8.60802283e-036, 1.00000000e+000, 6.26078635e-029],\n",
       "       [5.91440044e-040, 1.00000000e+000, 6.24083932e-032],\n",
       "       [2.15420817e-027, 1.00000000e+000, 2.73560964e-024],\n",
       "       [1.98301504e-035, 1.00000000e+000, 9.44427381e-029],\n",
       "       [3.71910256e-049, 1.00000000e+000, 6.19144802e-038],\n",
       "       [1.87444991e-038, 1.00000000e+000, 3.03045219e-029],\n",
       "       [1.18922833e-033, 1.00000000e+000, 2.07458621e-028],\n",
       "       [4.60969420e-034, 1.00000000e+000, 7.36953464e-028],\n",
       "       [4.30870613e-062, 1.00000000e+000, 3.91524413e-048],\n",
       "       [2.57581224e-063, 1.00000000e+000, 1.43839472e-046],\n",
       "       [4.22325633e-049, 1.00000000e+000, 3.26910339e-040],\n",
       "       [3.50217611e-040, 1.00000000e+000, 7.75360067e-034],\n",
       "       [1.69764390e-046, 1.00000000e+000, 4.40969728e-037],\n",
       "       [3.12896306e-047, 1.00000000e+000, 6.76277830e-036],\n",
       "       [2.07084937e-038, 1.00000000e+000, 2.96537349e-031],\n",
       "       [1.26427351e-040, 1.00000000e+000, 2.35221473e-033],\n",
       "       [5.63687445e-047, 1.00000000e+000, 2.32578057e-035],\n",
       "       [1.96369442e-025, 1.00000000e+000, 6.46012312e-025],\n",
       "       [3.76535380e-035, 1.00000000e+000, 1.25123702e-024],\n",
       "       [4.51922102e-029, 1.00000000e+000, 2.71998825e-026],\n",
       "       [6.51756681e-032, 1.00000000e+000, 2.84131646e-028],\n",
       "       [4.50051258e-043, 1.00000000e+000, 2.61299718e-034],\n",
       "       [2.70757132e-041, 1.00000000e+000, 2.06601686e-034],\n",
       "       [2.93196816e-033, 1.00000000e+000, 1.25089983e-026],\n",
       "       [3.87903068e-031, 1.00000000e+000, 2.74646598e-026],\n",
       "       [5.47501493e-034, 1.00000000e+000, 5.10725018e-032],\n",
       "       [3.34830795e-065, 1.00000000e+000, 5.77271732e-042],\n",
       "       [4.54179965e-066, 1.00000000e+000, 3.00615596e-046],\n",
       "       [2.87712045e-032, 1.00000000e+000, 3.67628819e-028],\n",
       "       [2.68955897e-037, 1.00000000e+000, 4.52094501e-033],\n",
       "       [2.14032656e-045, 1.00000000e+000, 1.74061685e-038],\n",
       "       [1.05153638e-049, 1.00000000e+000, 2.62588829e-035],\n",
       "       [3.51186220e-030, 1.00000000e+000, 4.32286025e-026],\n",
       "       [3.54136768e-040, 1.00000000e+000, 1.46115623e-032],\n",
       "       [1.07517355e-040, 1.00000000e+000, 3.70136929e-034],\n",
       "       [7.35669202e-015, 1.00000000e+000, 1.18999311e-019],\n",
       "       [1.40008694e-034, 1.00000000e+000, 9.67271992e-028],\n",
       "       [5.03870486e-027, 1.00000000e+000, 2.27531361e-025],\n",
       "       [1.72537998e-038, 1.00000000e+000, 1.08777823e-028],\n",
       "       [1.31569387e-027, 1.00000000e+000, 1.02920803e-026],\n",
       "       [2.77258918e-050, 1.00000000e+000, 1.25255388e-035],\n",
       "       [1.12833715e-034, 1.00000000e+000, 2.45675950e-028],\n",
       "       [6.02687750e-049, 1.00000000e+000, 2.69315506e-037],\n",
       "       [2.85269596e-038, 1.00000000e+000, 4.47083794e-032],\n",
       "       [9.99756965e-001, 3.10247530e-092, 2.43034683e-004],\n",
       "       [9.98758474e-001, 1.16773970e-083, 1.24152602e-003],\n",
       "       [9.95016821e-001, 1.80186916e-104, 4.98317877e-003],\n",
       "       [9.39401136e-001, 1.07955186e-063, 6.05988640e-002],\n",
       "       [9.74035571e-001, 4.71544734e-092, 2.59644291e-002],\n",
       "       [9.70618404e-001, 2.97163049e-079, 2.93815958e-002],\n",
       "       [9.87493905e-001, 8.61342317e-094, 1.25060949e-002],\n",
       "       [9.99867823e-001, 3.78055551e-034, 1.32176940e-004],\n",
       "       [9.98770787e-001, 1.35670978e-086, 1.22921324e-003],\n",
       "       [9.69396018e-001, 1.75145999e-060, 3.06039822e-002],\n",
       "       [9.98398597e-001, 3.04826297e-042, 1.60140326e-003],\n",
       "       [9.93453287e-001, 1.64276759e-072, 6.54671255e-003],\n",
       "       [9.99262471e-001, 4.10455753e-061, 7.37529214e-004],\n",
       "       [9.69427530e-001, 1.01190167e-090, 3.05724702e-002],\n",
       "       [9.99830313e-001, 7.61466486e-047, 1.69686561e-004],\n",
       "       [9.99893213e-001, 3.10904212e-079, 1.06787197e-004],\n",
       "       [9.28824632e-001, 1.48696556e-083, 7.11753683e-002],\n",
       "       [9.97153342e-001, 8.80986746e-058, 2.84665774e-003],\n",
       "       [3.85608358e-003, 4.15173178e-092, 9.96143916e-001],\n",
       "       [9.99563115e-001, 7.33640942e-055, 4.36884913e-004],\n",
       "       [5.97804922e-002, 7.90464838e-106, 9.40219508e-001],\n",
       "       [9.99865516e-001, 3.90562988e-062, 1.34484090e-004],\n",
       "       [5.15885214e-002, 4.87215226e-107, 9.48411479e-001],\n",
       "       [9.20184446e-001, 3.48060404e-086, 7.98155537e-002],\n",
       "       [9.99810346e-001, 1.84746205e-073, 1.89653887e-004],\n",
       "       [9.99758592e-001, 6.71751422e-080, 2.41407862e-004],\n",
       "       [9.89284439e-001, 3.71319682e-100, 1.07155607e-002],\n",
       "       [3.70573172e-001, 1.25589439e-114, 6.29426828e-001],\n",
       "       [9.67594830e-001, 4.78140666e-085, 3.24051697e-002],\n",
       "       [9.99989443e-001, 2.46740363e-039, 1.05570953e-005],\n",
       "       [9.99568390e-001, 3.92968951e-052, 4.31609625e-004],\n",
       "       [9.99846747e-001, 9.02133988e-047, 1.53253360e-004],\n",
       "       [9.99851200e-001, 4.16876102e-056, 1.48800347e-004],\n",
       "       [8.25732670e-003, 1.79376045e-116, 9.91742673e-001],\n",
       "       [8.56134520e-001, 1.87345588e-083, 1.43865480e-001],\n",
       "       [9.88202121e-001, 4.38626912e-084, 1.17978788e-002],\n",
       "       [9.97792835e-001, 1.83966966e-094, 2.20716536e-003],\n",
       "       [9.31798861e-001, 2.03418627e-082, 6.82011395e-002],\n",
       "       [9.98693905e-001, 1.79324569e-062, 1.30609465e-003],\n",
       "       [9.90875692e-001, 1.21633849e-062, 9.12430770e-003],\n",
       "       [9.44970954e-001, 1.06336849e-073, 5.50290456e-002],\n",
       "       [9.91685982e-001, 1.13026264e-085, 8.31401817e-003],\n",
       "       [9.99568375e-001, 1.94269937e-060, 4.31625248e-004],\n",
       "       [9.99900419e-001, 5.87756309e-035, 9.95809797e-005],\n",
       "       [9.94256042e-001, 1.44936206e-068, 5.74395807e-003],\n",
       "       [9.97665901e-001, 4.03844987e-063, 2.33409881e-003],\n",
       "       [9.98147774e-001, 3.85525817e-067, 1.85222572e-003],\n",
       "       [9.99554475e-001, 1.68462043e-072, 4.45524964e-004],\n",
       "       [9.99953439e-001, 3.30681507e-028, 4.65611857e-005],\n",
       "       [9.98738347e-001, 1.90989312e-064, 1.26165336e-003],\n",
       "       [1.29254164e-016, 3.13908163e-203, 1.00000000e+000],\n",
       "       [1.57862631e-007, 1.76725715e-128, 9.99999842e-001],\n",
       "       [4.50135537e-009, 3.22273399e-181, 9.99999995e-001],\n",
       "       [5.63712653e-005, 1.36169343e-148, 9.99943629e-001],\n",
       "       [1.46887543e-011, 9.27772115e-178, 1.00000000e+000],\n",
       "       [5.21152316e-011, 1.39218538e-228, 1.00000000e+000],\n",
       "       [1.47184041e-005, 3.28840631e-095, 9.99985282e-001],\n",
       "       [2.84181556e-007, 1.49457125e-196, 9.99999716e-001],\n",
       "       [9.32966009e-009, 1.10306495e-166, 9.99999991e-001],\n",
       "       [9.57107490e-013, 1.86732538e-207, 1.00000000e+000],\n",
       "       [7.66918118e-005, 1.44222575e-129, 9.99923308e-001],\n",
       "       [2.50269349e-007, 8.01374099e-140, 9.99999750e-001],\n",
       "       [9.53720203e-009, 9.26043250e-158, 9.99999990e-001],\n",
       "       [4.02560940e-012, 1.96692631e-130, 1.00000000e+000],\n",
       "       [8.48201094e-022, 2.04993235e-156, 1.00000000e+000],\n",
       "       [1.74092396e-012, 9.49052261e-156, 1.00000000e+000],\n",
       "       [9.69556924e-004, 6.70599987e-143, 9.99030443e-001],\n",
       "       [7.17123049e-006, 2.77043245e-228, 9.99992829e-001],\n",
       "       [1.29767785e-021, 7.72084918e-265, 1.00000000e+000],\n",
       "       [7.06674419e-005, 1.39033929e-113, 9.99929333e-001],\n",
       "       [8.26638515e-012, 4.40496181e-177, 1.00000000e+000],\n",
       "       [4.85758783e-009, 1.06223241e-123, 9.99999995e-001],\n",
       "       [3.75854411e-012, 1.17203824e-235, 1.00000000e+000],\n",
       "       [6.99905117e-005, 6.37194663e-116, 9.99930009e-001],\n",
       "       [2.78204093e-006, 1.91538370e-164, 9.99997218e-001],\n",
       "       [8.94919028e-004, 1.34465710e-172, 9.99105081e-001],\n",
       "       [4.49606256e-004, 4.76258212e-110, 9.99550394e-001],\n",
       "       [7.05570439e-003, 2.87085171e-112, 9.92944296e-001],\n",
       "       [3.54263548e-011, 1.29553000e-163, 1.00000000e+000],\n",
       "       [5.43130657e-003, 3.15144256e-157, 9.94568693e-001],\n",
       "       [5.17159465e-008, 6.60048484e-190, 9.99999948e-001],\n",
       "       [6.74258403e-003, 4.84028338e-201, 9.93257416e-001],\n",
       "       [7.24022291e-014, 7.00457824e-169, 1.00000000e+000],\n",
       "       [2.39307634e-001, 2.78214560e-113, 7.60692366e-001],\n",
       "       [3.55456124e-005, 3.68291735e-138, 9.99964454e-001],\n",
       "       [4.45729939e-014, 2.64405326e-207, 1.00000000e+000],\n",
       "       [6.37039385e-013, 7.75525904e-175, 1.00000000e+000],\n",
       "       [2.94335547e-003, 2.16947659e-141, 9.97056645e-001],\n",
       "       [6.78775136e-003, 1.04785607e-107, 9.93212249e-001],\n",
       "       [1.17812751e-007, 8.56275468e-152, 9.99999882e-001],\n",
       "       [2.56521215e-016, 2.46968875e-178, 1.00000000e+000],\n",
       "       [6.61450362e-014, 2.12268659e-148, 1.00000000e+000],\n",
       "       [1.57862631e-007, 1.76725715e-128, 9.99999842e-001],\n",
       "       [7.86106425e-012, 1.29610419e-187, 1.00000000e+000],\n",
       "       [5.00846760e-017, 9.34873606e-188, 1.00000000e+000],\n",
       "       [6.12067233e-015, 1.13935522e-153, 1.00000000e+000],\n",
       "       [3.79143397e-009, 3.44410652e-127, 9.99999996e-001],\n",
       "       [1.67490645e-006, 1.32376482e-136, 9.99998325e-001],\n",
       "       [2.09702232e-010, 1.15556452e-158, 1.00000000e+000],\n",
       "       [2.05890081e-003, 2.52680258e-121, 9.97941099e-001]])"
      ]
     },
     "execution_count": 15,
     "metadata": {},
     "output_type": "execute_result"
    }
   ],
   "source": [
    "gm.predict_proba(X)"
   ]
  },
  {
   "cell_type": "markdown",
   "metadata": {},
   "source": [
    "A Gaussian mixture model is a **generative model**, meaning you can sample new\n",
    "instances from it (note that they are ordered by cluster index).\n",
    "\n",
    "It is also possible to estimate the density of the model at any given location."
   ]
  },
  {
   "cell_type": "code",
   "execution_count": 16,
   "metadata": {
    "collapsed": true
   },
   "outputs": [
    {
     "data": {
      "text/plain": [
       "array([ 1.57050082,  0.73787138,  1.14436656,  0.92913238,  1.411028  ,\n",
       "       -0.09451903,  0.05266884,  1.62442195,  0.27082378,  0.16706624,\n",
       "        0.83489877,  0.77168582,  0.29597841, -1.79224582, -3.41557928,\n",
       "       -2.10529279, -1.12995447,  1.47503579, -0.84612536,  0.97699215,\n",
       "       -0.92934784,  0.41079066, -3.83509616, -1.88906058, -3.17355662,\n",
       "       -0.12403068,  0.51111724,  1.37663152,  1.12464925,  0.69029112,\n",
       "        0.78206572, -0.69467132, -2.12834347, -0.8778815 ,  1.153231  ,\n",
       "        0.11508687, -1.11928741,  0.22543724,  0.13115634,  1.49896403,\n",
       "        0.94007659, -4.48978774, -0.34371496, -4.48037212, -2.58855877,\n",
       "        0.67996207,  0.3937127 ,  1.04001332,  1.16051416,  1.54721281,\n",
       "       -2.04219856, -0.26690497, -0.85097585, -2.32641778, -1.1625818 ,\n",
       "       -0.79356973, -0.81650435, -1.40144428, -0.44903274, -1.64498537,\n",
       "       -2.59281522, -0.60402676, -2.52104033, -0.11016408, -1.92916117,\n",
       "       -1.15964891, -1.27337947, -2.94118443, -5.17236275,  0.26249387,\n",
       "       -2.48742036, -0.02454445, -2.18957362, -2.5780906 ,  0.09261092,\n",
       "       -0.47884423, -1.32879795, -2.26652606, -0.06028083, -1.86484538,\n",
       "        0.12565062, -0.48783426,  0.53511418, -1.42580847, -2.52337005,\n",
       "       -2.22487564, -0.31666947, -3.75463238, -0.44087896, -0.35405085,\n",
       "       -1.84324819,  0.24217789,  0.69966243, -1.18030277,  0.44399299,\n",
       "       -1.74445511,  0.35185763,  0.58781737, -4.19949533,  0.75057275,\n",
       "       -4.19226679, -1.29772457, -0.7737406 , -1.39013677, -1.12277543,\n",
       "       -2.55209288, -4.40794322, -2.34738561, -2.07200422, -2.5261526 ,\n",
       "       -1.52065022, -0.6168643 , -0.70214856, -2.26809269, -3.40810584,\n",
       "       -1.35163494, -0.79691866, -5.03265463, -7.0613253 , -2.99294213,\n",
       "       -1.03543297, -1.69271206, -3.85000771, -1.34611142, -0.95197024,\n",
       "       -1.97375555, -1.40620213, -1.23143347, -0.91944907, -2.64585099,\n",
       "       -1.97432752, -6.03074437, -1.27613367, -1.63007441, -4.86147605,\n",
       "       -3.49787487, -2.42036311, -1.31122938, -1.45639312, -1.3702128 ,\n",
       "       -1.52329727, -4.38642158, -1.29772457, -0.99115121, -1.95926949,\n",
       "       -2.60867327, -1.90420216, -0.71719615, -2.21975718, -1.51769298])"
      ]
     },
     "execution_count": 16,
     "metadata": {},
     "output_type": "execute_result"
    }
   ],
   "source": [
    "gm.score_samples(X)"
   ]
  },
  {
   "cell_type": "markdown",
   "metadata": {},
   "source": [
    "It estimates the **log of the probability density function (PDF)** at that location.\n",
    "The greater the score, the higher the density .\n",
    "\n",
    "If you compute the exponential of these scores, you get the value of the PDF at the\n",
    "location of the given instances. These are not probabilities, but probability densities:\n",
    "they can take on any positive value, not just a value between 0 and 1. To estimate the\n",
    "probability that an instance will fall within a particular region, you would have to\n",
    "integrate the PDF over that region (if you do so over the entire space of possible\n",
    "instance locations, the result will be 1)."
   ]
  },
  {
   "cell_type": "code",
   "execution_count": 21,
   "metadata": {},
   "outputs": [
    {
     "data": {
      "text/plain": [
       "0.012450078494104793"
      ]
     },
     "execution_count": 21,
     "metadata": {},
     "output_type": "execute_result"
    }
   ],
   "source": [
    "import numpy as np\n",
    "resolution = 100\n",
    "\n",
    "pdf = np.exp(gm.score_samples(X))\n",
    "pdf_probas = pdf * (1 / resolution) ** 2\n",
    "sum(pdf_probas)"
   ]
  },
  {
   "cell_type": "markdown",
   "metadata": {},
   "source": [
    "**When there are many dimensions, or many clusters, or few instances**, EM can struggle to converge to the optimal solution. You might need to reduce the difficulty of the task by limiting the number of parameters\n",
    "that the algorithm has to learn. One way to do this is to **limit the range of shapes and\n",
    "orientations that the clusters can have**. This can be achieved by imposing constraints\n",
    "on the covariance matrices. To do this, set the covariance_type hyperparameter to\n",
    "one of the following values.\n",
    "\n",
    "\n",
    "* `\"full\"` (default): no constraint, all clusters can take on any ellipsoidal shape of any size.\n",
    "* `\"tied\"`: all clusters must have the same shape, which can be any ellipsoid (i.e., they all share the same covariance matrix).\n",
    "* `\"spherical\"`: all clusters must be spherical, but they can have different diameters (i.e., different variances).\n",
    "* `\"diag\"`: clusters can take on any ellipsoidal shape of any size, but the ellipsoid's axes must be parallel to the axes (i.e., the covariance matrices must be diagonal)."
   ]
  },
  {
   "cell_type": "markdown",
   "metadata": {},
   "source": [
    "The computational complexity of training a GaussianMixture\n",
    "model depends on the number of instances m, the number of\n",
    "dimensions n, the number of clusters k, and the constraints on the\n",
    "covariance matrices. If covariance_type is **\"spherical or \"diag\",\n",
    "it is O(kmn)**, assuming the data has a clustering structure. If covariance_type is **\"tied\" or \"full\", it is O(kmn^2 + kn^3)**, so it will not\n",
    "scale to large numbers of features."
   ]
  },
  {
   "cell_type": "markdown",
   "metadata": {},
   "source": [
    "### Anomaly Detection Using Gaussian Mixtures\n",
    "Say it is equal to 4%. You then set the density threshold to be the value that\n",
    "results in having 4% of the instances located in areas below that threshold density. If\n",
    "you notice that you get too many false positives (i.e., perfectly good products that are\n",
    "flagged as defective), you can lower the threshold. Conversely, if you have too many\n",
    "false negatives (i.e., defective products that the system does not flag as defective), you\n",
    "can increase the threshold. This is the usual precision/recall trade-off ."
   ]
  },
  {
   "cell_type": "code",
   "execution_count": 6,
   "metadata": {},
   "outputs": [
    {
     "data": {
      "text/plain": [
       "array([[4.5, 2.3, 1.3, 0.3],\n",
       "       [6.2, 2.2, 4.5, 1.5],\n",
       "       [7.7, 3.8, 6.7, 2.2],\n",
       "       [7.7, 2.6, 6.9, 2.3],\n",
       "       [7.9, 3.8, 6.4, 2. ],\n",
       "       [6.1, 2.6, 5.6, 1.4]])"
      ]
     },
     "execution_count": 6,
     "metadata": {},
     "output_type": "execute_result"
    }
   ],
   "source": [
    "import numpy as np\n",
    "gm = GaussianMixture(n_components=3, n_init=10)\n",
    "gm.fit(X)\n",
    "\n",
    "densities = gm.score_samples(X)\n",
    "density_threshold = np.percentile(densities, 4)\n",
    "anomalies = X[densities < density_threshold]\n",
    "anomalies"
   ]
  },
  {
   "cell_type": "markdown",
   "metadata": {},
   "source": [
    "Gaussian mixture models try to fit all the data, including the outliers,so if you have too many of them, this will bias the model’s view of “normality,” and some outliers may wrongly be considered as normal. If this happens, you can try to fit the model once, use it to detect and remove the most extreme outliers, then fit the model again on the cleaned-up dataset. Another approach is to use robust covariance estimation methods (EllipticEnvelope class)."
   ]
  },
  {
   "cell_type": "markdown",
   "metadata": {},
   "source": [
    "### Selecting the Number of Clusters\n",
    "But with Gaussian mixtures, it is not possible to use these\n",
    "metrics because they are not reliable when the clusters are not spherical or have different\n",
    "sizes. Instead, you can try to find the model that minimizes a theoretical information\n",
    "criterion, such as the Bayesian information criterion (BIC) or the Akaike\n",
    "information criterion (AIC)..\n",
    "\n",
    "${BIC} = {\\log(m)p - 2\\log({\\hat L})}$\n",
    "\n",
    "${AIC} = 2p - 2\\log(\\hat L)$\n",
    "\n",
    "* $m$ is the number of instances.\n",
    "* $p$ is the number of parameters learned by the model.\n",
    "* $\\hat L$ is the maximized value of the likelihood function of the model. This is the conditional probability of the observed data $\\mathbf{X}$, given the model and its optimized parameters.\n",
    "\n",
    "Given a statistical\n",
    "model with some parameters θ, the word “probability” is used to describe how\n",
    "plausible a future outcome x is (knowing the parameter values θ), while the word\n",
    "“likelihood” is used to describe how plausible a particular set of parameter values θ\n",
    "are, after the outcome x is known.\n",
    "\n",
    "Both BIC and AIC penalize models that have more parameters to learn (e.g., more clusters), and reward models that fit the data well (i.e., models that give a high likelihood to the observed data).When they differ, the model selected by the BIC tends to be simpler (fewer parameters) than the one selected by the AIC, but tends to not fit the data\n",
    "quite as well (this is especially true for larger datasets)."
   ]
  },
  {
   "cell_type": "code",
   "execution_count": 7,
   "metadata": {},
   "outputs": [
    {
     "data": {
      "text/plain": [
       "580.8594247694389"
      ]
     },
     "execution_count": 7,
     "metadata": {},
     "output_type": "execute_result"
    }
   ],
   "source": [
    "gm.bic(X)"
   ]
  },
  {
   "cell_type": "code",
   "execution_count": 8,
   "metadata": {},
   "outputs": [
    {
     "data": {
      "text/plain": [
       "448.3914718292037"
      ]
     },
     "execution_count": 8,
     "metadata": {},
     "output_type": "execute_result"
    }
   ],
   "source": [
    "gm.aic(X)"
   ]
  },
  {
   "cell_type": "code",
   "execution_count": 9,
   "metadata": {},
   "outputs": [],
   "source": [
    "gms_per_k = [GaussianMixture(n_components=k, n_init=10, random_state=42).fit(X)\n",
    "             for k in range(1, 11)]\n",
    "bics = [model.bic(X) for model in gms_per_k]\n",
    "aics = [model.aic(X) for model in gms_per_k]"
   ]
  },
  {
   "cell_type": "code",
   "execution_count": 10,
   "metadata": {},
   "outputs": [
    {
     "data": {
      "image/png": "[encoded data removed]",
      "text/plain": [
       "<Figure size 576x216 with 1 Axes>"
      ]
     },
     "metadata": {
      "needs_background": "light"
     },
     "output_type": "display_data"
    }
   ],
   "source": [
    "import matplotlib.pyplot as plt\n",
    "\n",
    "plt.figure(figsize=(8, 3))\n",
    "plt.plot(range(1, 11), bics, \"bo-\", label=\"BIC\")\n",
    "plt.plot(range(1, 11), aics, \"go--\", label=\"AIC\")\n",
    "plt.xlabel(\"$k$\", fontsize=14)\n",
    "plt.ylabel(\"Information Criterion\", fontsize=14)\n",
    "plt.axis([1, 9.5, np.min(aics) - 50, np.max(aics) + 50])\n",
    "plt.annotate('Minimum',\n",
    "             xy=(3, bics[2]),\n",
    "             xytext=(0.35, 0.6),\n",
    "             textcoords='figure fraction',\n",
    "             fontsize=14,\n",
    "             arrowprops=dict(facecolor='black', shrink=0.1)\n",
    "            )\n",
    "plt.legend()\n",
    "plt.show()"
   ]
  },
  {
   "cell_type": "code",
   "execution_count": 11,
   "metadata": {},
   "outputs": [],
   "source": [
    "min_bic = np.infty\n",
    "\n",
    "for k in range(1, 11):\n",
    "    for covariance_type in (\"full\", \"tied\", \"spherical\", \"diag\"):\n",
    "        bic = GaussianMixture(n_components=k, n_init=10,\n",
    "                              covariance_type=covariance_type,\n",
    "                              random_state=42).fit(X).bic(X)\n",
    "        if bic < min_bic:\n",
    "            min_bic = bic\n",
    "            best_k = k\n",
    "            best_covariance_type = covariance_type"
   ]
  },
  {
   "cell_type": "code",
   "execution_count": 12,
   "metadata": {},
   "outputs": [
    {
     "data": {
      "text/plain": [
       "2"
      ]
     },
     "execution_count": 12,
     "metadata": {},
     "output_type": "execute_result"
    }
   ],
   "source": [
    "best_k"
   ]
  },
  {
   "cell_type": "code",
   "execution_count": 13,
   "metadata": {},
   "outputs": [
    {
     "data": {
      "text/plain": [
       "'full'"
      ]
     },
     "execution_count": 13,
     "metadata": {},
     "output_type": "execute_result"
    }
   ],
   "source": [
    "best_covariance_type"
   ]
  },
  {
   "cell_type": "markdown",
   "metadata": {},
   "source": [
    "### Bayesian Gaussian Mixture Models\n",
    "Rather than manually searching for the optimal number of clusters, you can use the\n",
    "BayesianGaussianMixture class, which is capable of giving weights equal (or close)\n",
    "to zero to unnecessary clusters. **Just set the number of components to a value that you believe is greater than the optimal number of clusters, and the algorithm will eliminate the unnecessary clusters automatically.**"
   ]
  },
  {
   "cell_type": "code",
   "execution_count": 14,
   "metadata": {},
   "outputs": [],
   "source": [
    "from sklearn.mixture import BayesianGaussianMixture"
   ]
  },
  {
   "cell_type": "code",
   "execution_count": 15,
   "metadata": {},
   "outputs": [
    {
     "data": {
      "text/plain": [
       "BayesianGaussianMixture(n_components=10, n_init=10, random_state=42)"
      ]
     },
     "execution_count": 15,
     "metadata": {},
     "output_type": "execute_result"
    }
   ],
   "source": [
    "bgm = BayesianGaussianMixture(n_components=10, n_init=10, random_state=42)\n",
    "bgm.fit(X)"
   ]
  },
  {
   "cell_type": "code",
   "execution_count": 16,
   "metadata": {},
   "outputs": [
    {
     "data": {
      "text/plain": [
       "array([0.42, 0.33, 0.18, 0.06, 0.  , 0.  , 0.  , 0.  , 0.  , 0.  ])"
      ]
     },
     "execution_count": 16,
     "metadata": {},
     "output_type": "execute_result"
    }
   ],
   "source": [
    "np.round(bgm.weights_, 2)"
   ]
  },
  {
   "cell_type": "markdown",
   "metadata": {},
   "source": [
    "It is showing that 3 or 4 is the optimal number of cluster."
   ]
  },
  {
   "cell_type": "code",
   "execution_count": 17,
   "metadata": {},
   "outputs": [
    {
     "data": {
      "text/plain": [
       "BayesianGaussianMixture(max_iter=1000, n_components=10, random_state=42,\n",
       "                        weight_concentration_prior=10000)"
      ]
     },
     "execution_count": 17,
     "metadata": {},
     "output_type": "execute_result"
    }
   ],
   "source": [
    "bgm_low = BayesianGaussianMixture(n_components=10, max_iter=1000, n_init=1,\n",
    "                                  weight_concentration_prior=0.01, random_state=42)\n",
    "bgm_high = BayesianGaussianMixture(n_components=10, max_iter=1000, n_init=1,\n",
    "                                  weight_concentration_prior=10000, random_state=42)\n",
    "nn = 73\n",
    "bgm_low.fit(X[:nn])\n",
    "bgm_high.fit(X[:nn])"
   ]
  },
  {
   "cell_type": "code",
   "execution_count": 18,
   "metadata": {},
   "outputs": [
    {
     "data": {
      "text/plain": [
       "array([0.01, 0.01, 0.01, 0.01, 0.01, 0.01, 0.01, 0.63, 0.01, 0.27])"
      ]
     },
     "execution_count": 18,
     "metadata": {},
     "output_type": "execute_result"
    }
   ],
   "source": [
    "np.round(bgm_low.weights_, 2)"
   ]
  },
  {
   "cell_type": "code",
   "execution_count": 19,
   "metadata": {},
   "outputs": [
    {
     "data": {
      "text/plain": [
       "array([0.01, 0.01, 0.01, 0.01, 0.01, 0.01, 0.01, 0.61, 0.01, 0.29])"
      ]
     },
     "execution_count": 19,
     "metadata": {},
     "output_type": "execute_result"
    }
   ],
   "source": [
    "np.round(bgm_high.weights_, 2)"
   ]
  },
  {
   "cell_type": "markdown",
   "metadata": {},
   "source": [
    "Gaussian mixture models work great on clusters with ellipsoidal shapes, but if you try\n",
    "to fit a dataset with different shapes, you may have bad surprises."
   ]
  },
  {
   "cell_type": "code",
   "execution_count": 20,
   "metadata": {},
   "outputs": [],
   "source": [
    "from sklearn.datasets import make_moons\n",
    "X_moons, y_moons = make_moons(n_samples=1000, noise=0.05, random_state=42)"
   ]
  },
  {
   "cell_type": "code",
   "execution_count": 21,
   "metadata": {},
   "outputs": [
    {
     "data": {
      "text/plain": [
       "BayesianGaussianMixture(n_components=10, n_init=10, random_state=42)"
      ]
     },
     "execution_count": 21,
     "metadata": {},
     "output_type": "execute_result"
    }
   ],
   "source": [
    "bgm = BayesianGaussianMixture(n_components=10, n_init=10, random_state=42)\n",
    "bgm.fit(X_moons)"
   ]
  },
  {
   "cell_type": "markdown",
   "metadata": {},
   "source": [
    "Oops! The algorithm desperately searched for ellipsoids, so it found eight different\n",
    "clusters instead of two. The density estimation is not too bad, so this model could\n",
    "perhaps be used for anomaly detection, but it failed to identify the two moons."
   ]
  },
  {
   "cell_type": "markdown",
   "metadata": {},
   "source": [
    "## Other Algorithms for Anomaly and Novelty Detection\n",
    "Scikit-Learn implements other algorithms dedicated to anomaly detection or novelty\n",
    "detection:\n",
    "\n",
    "PCA (and other dimensionality reduction techniques with an inverse_transform()\n",
    "method)\n",
    "\n",
    "Isolation Forest\n",
    "\n",
    "Local Outlier Factor (LOF)\n",
    "\n",
    "One-class SVM"
   ]
  },
  {
   "cell_type": "code",
   "execution_count": null,
   "metadata": {},
   "outputs": [],
   "source": []
  }
 ],
 "metadata": {
  "kernelspec": {
   "display_name": "Python 3",
   "language": "python",
   "name": "python3"
  },
  "language_info": {
   "codemirror_mode": {
    "name": "ipython",
    "version": 3
   },
   "file_extension": ".py",
   "mimetype": "text/x-python",
   "name": "python",
   "nbconvert_exporter": "python",
   "pygments_lexer": "ipython3",
   "version": "3.7.1"
  }
 },
 "nbformat": 4,
 "nbformat_minor": 4
}
